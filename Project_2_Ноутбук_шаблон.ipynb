{
 "cells": [
  {
   "cell_type": "markdown",
   "id": "42289889-bd57-434e-9637-d3e354756316",
   "metadata": {
    "id": "42289889-bd57-434e-9637-d3e354756316"
   },
   "source": [
    "<center> <img src = https://raw.githubusercontent.com/AndreyRysistov/DatasetsForPandas/main/hh%20label.jpg alt=\"drawing\" style=\"width:400px;\">"
   ]
  },
  {
   "cell_type": "markdown",
   "id": "829cb75b-f14e-4ba8-9195-7ba929a7d656",
   "metadata": {
    "id": "829cb75b-f14e-4ba8-9195-7ba929a7d656",
    "tags": []
   },
   "source": [
    "# <center> Проект: Анализ вакансий из HeadHunter\n",
    "   "
   ]
  },
  {
   "cell_type": "code",
   "execution_count": 157,
   "id": "dccfde33-2452-43fb-a8a5-5c6ebc02a71d",
   "metadata": {
    "id": "dccfde33-2452-43fb-a8a5-5c6ebc02a71d"
   },
   "outputs": [],
   "source": [
    "import pandas as pd\n",
    "import psycopg2"
   ]
  },
  {
   "cell_type": "code",
   "execution_count": 159,
   "id": "G4X_q8KBf7SF",
   "metadata": {
    "id": "G4X_q8KBf7SF"
   },
   "outputs": [],
   "source": [
    "connection = psycopg2.connect(\n",
    "    dbname=DBNAME,\n",
    "    user=USER,\n",
    "    host=HOST,\n",
    "    password=PASSWORD,\n",
    "    port=PORT\n",
    ")"
   ]
  },
  {
   "cell_type": "markdown",
   "id": "0dc6476b-7a00-44f1-ac93-6e3baed33a29",
   "metadata": {
    "id": "0dc6476b-7a00-44f1-ac93-6e3baed33a29"
   },
   "source": [
    "# Юнит 3. Предварительный анализ данных"
   ]
  },
  {
   "cell_type": "markdown",
   "id": "889782b6-8d1c-410e-8920-e57f27917c64",
   "metadata": {
    "id": "889782b6-8d1c-410e-8920-e57f27917c64"
   },
   "source": [
    "1. Напишите запрос, который посчитает количество вакансий в нашей базе (вакансии находятся в таблице vacancies). "
   ]
  },
  {
   "cell_type": "code",
   "execution_count": 160,
   "id": "bc39e68e-ed02-4ee2-9235-7258a2f867a8",
   "metadata": {
    "id": "bc39e68e-ed02-4ee2-9235-7258a2f867a8"
   },
   "outputs": [],
   "source": [
    "# текст запроса\n",
    "query_3_1 = f''' select count(*) from vacancies\n",
    "'''"
   ]
  },
  {
   "cell_type": "code",
   "execution_count": 161,
   "id": "7mAwtsk4hEHY",
   "metadata": {
    "id": "7mAwtsk4hEHY"
   },
   "outputs": [
    {
     "name": "stderr",
     "output_type": "stream",
     "text": [
      "/var/folders/vc/zgch74_n23sckf5dm03_fq380000gn/T/ipykernel_1045/1469115235.py:2: UserWarning:\n",
      "\n",
      "pandas only supports SQLAlchemy connectable (engine/connection) or database string URI or sqlite3 DBAPI2 connection. Other DBAPI2 objects are not tested. Please consider using SQLAlchemy.\n",
      "\n"
     ]
    },
    {
     "data": {
      "text/html": [
       "<div>\n",
       "<style scoped>\n",
       "    .dataframe tbody tr th:only-of-type {\n",
       "        vertical-align: middle;\n",
       "    }\n",
       "\n",
       "    .dataframe tbody tr th {\n",
       "        vertical-align: top;\n",
       "    }\n",
       "\n",
       "    .dataframe thead th {\n",
       "        text-align: right;\n",
       "    }\n",
       "</style>\n",
       "<table border=\"1\" class=\"dataframe\">\n",
       "  <thead>\n",
       "    <tr style=\"text-align: right;\">\n",
       "      <th></th>\n",
       "      <th>count</th>\n",
       "    </tr>\n",
       "  </thead>\n",
       "  <tbody>\n",
       "    <tr>\n",
       "      <th>0</th>\n",
       "      <td>49197</td>\n",
       "    </tr>\n",
       "  </tbody>\n",
       "</table>\n",
       "</div>"
      ],
      "text/plain": [
       "   count\n",
       "0  49197"
      ]
     },
     "execution_count": 161,
     "metadata": {},
     "output_type": "execute_result"
    }
   ],
   "source": [
    "# результат запроса\n",
    "pd.read_sql_query(query_3_1, connection)"
   ]
  },
  {
   "cell_type": "markdown",
   "id": "b583485d-1f9e-494e-ada4-80ffff7c53d6",
   "metadata": {
    "id": "b583485d-1f9e-494e-ada4-80ffff7c53d6"
   },
   "source": [
    "2. Напишите запрос, который посчитает количество работодателей (таблица employers). "
   ]
  },
  {
   "cell_type": "code",
   "execution_count": 162,
   "id": "5408c52c-3407-4a63-b25b-1aafa2322d28",
   "metadata": {
    "id": "5408c52c-3407-4a63-b25b-1aafa2322d28"
   },
   "outputs": [],
   "source": [
    "# текст запроса\n",
    "query_3_2 = f''' select count(distinct id) from employers\n",
    "'''\n",
    "\n"
   ]
  },
  {
   "cell_type": "code",
   "execution_count": 163,
   "id": "jVL4eshKhdqc",
   "metadata": {
    "id": "jVL4eshKhdqc"
   },
   "outputs": [
    {
     "name": "stderr",
     "output_type": "stream",
     "text": [
      "/var/folders/vc/zgch74_n23sckf5dm03_fq380000gn/T/ipykernel_1045/2966244997.py:2: UserWarning:\n",
      "\n",
      "pandas only supports SQLAlchemy connectable (engine/connection) or database string URI or sqlite3 DBAPI2 connection. Other DBAPI2 objects are not tested. Please consider using SQLAlchemy.\n",
      "\n"
     ]
    },
    {
     "data": {
      "text/html": [
       "<div>\n",
       "<style scoped>\n",
       "    .dataframe tbody tr th:only-of-type {\n",
       "        vertical-align: middle;\n",
       "    }\n",
       "\n",
       "    .dataframe tbody tr th {\n",
       "        vertical-align: top;\n",
       "    }\n",
       "\n",
       "    .dataframe thead th {\n",
       "        text-align: right;\n",
       "    }\n",
       "</style>\n",
       "<table border=\"1\" class=\"dataframe\">\n",
       "  <thead>\n",
       "    <tr style=\"text-align: right;\">\n",
       "      <th></th>\n",
       "      <th>count</th>\n",
       "    </tr>\n",
       "  </thead>\n",
       "  <tbody>\n",
       "    <tr>\n",
       "      <th>0</th>\n",
       "      <td>23501</td>\n",
       "    </tr>\n",
       "  </tbody>\n",
       "</table>\n",
       "</div>"
      ],
      "text/plain": [
       "   count\n",
       "0  23501"
      ]
     },
     "execution_count": 163,
     "metadata": {},
     "output_type": "execute_result"
    }
   ],
   "source": [
    "# результат запроса\n",
    "pd.read_sql_query(query_3_2,connection)"
   ]
  },
  {
   "cell_type": "markdown",
   "id": "a2bfff1f-c975-4bf6-84be-2185d79dcb76",
   "metadata": {
    "id": "a2bfff1f-c975-4bf6-84be-2185d79dcb76"
   },
   "source": [
    "3. Посчитате с помощью запроса количество регионов (таблица areas)."
   ]
  },
  {
   "cell_type": "code",
   "execution_count": 164,
   "id": "1m8QJwBYhey6",
   "metadata": {
    "id": "1m8QJwBYhey6"
   },
   "outputs": [],
   "source": [
    "# текст запроса\n",
    "query_3_3 = f''' select count(distinct id) from areas\n",
    "'''\n"
   ]
  },
  {
   "cell_type": "code",
   "execution_count": 165,
   "id": "EZsn9tlfhe7f",
   "metadata": {
    "id": "EZsn9tlfhe7f"
   },
   "outputs": [
    {
     "name": "stderr",
     "output_type": "stream",
     "text": [
      "/var/folders/vc/zgch74_n23sckf5dm03_fq380000gn/T/ipykernel_1045/3873399239.py:2: UserWarning:\n",
      "\n",
      "pandas only supports SQLAlchemy connectable (engine/connection) or database string URI or sqlite3 DBAPI2 connection. Other DBAPI2 objects are not tested. Please consider using SQLAlchemy.\n",
      "\n"
     ]
    },
    {
     "data": {
      "text/html": [
       "<div>\n",
       "<style scoped>\n",
       "    .dataframe tbody tr th:only-of-type {\n",
       "        vertical-align: middle;\n",
       "    }\n",
       "\n",
       "    .dataframe tbody tr th {\n",
       "        vertical-align: top;\n",
       "    }\n",
       "\n",
       "    .dataframe thead th {\n",
       "        text-align: right;\n",
       "    }\n",
       "</style>\n",
       "<table border=\"1\" class=\"dataframe\">\n",
       "  <thead>\n",
       "    <tr style=\"text-align: right;\">\n",
       "      <th></th>\n",
       "      <th>count</th>\n",
       "    </tr>\n",
       "  </thead>\n",
       "  <tbody>\n",
       "    <tr>\n",
       "      <th>0</th>\n",
       "      <td>1362</td>\n",
       "    </tr>\n",
       "  </tbody>\n",
       "</table>\n",
       "</div>"
      ],
      "text/plain": [
       "   count\n",
       "0   1362"
      ]
     },
     "execution_count": 165,
     "metadata": {},
     "output_type": "execute_result"
    }
   ],
   "source": [
    "# результат запроса\n",
    "pd.read_sql_query(query_3_3,connection)"
   ]
  },
  {
   "cell_type": "markdown",
   "id": "41bb59f3-53cc-4a67-a5bc-bedf573955e4",
   "metadata": {
    "id": "41bb59f3-53cc-4a67-a5bc-bedf573955e4"
   },
   "source": [
    "4. Посчитате с помощью запроса количество сфер деятельности в базе (таблица industries)."
   ]
  },
  {
   "cell_type": "code",
   "execution_count": 166,
   "id": "d286cf4c-707b-4cd2-9190-7ab3587d04a1",
   "metadata": {
    "id": "d286cf4c-707b-4cd2-9190-7ab3587d04a1"
   },
   "outputs": [],
   "source": [
    "# текст запроса\n",
    "query_3_4 = f''' select count(distinct id) from industries\n",
    "'''\n"
   ]
  },
  {
   "cell_type": "code",
   "execution_count": 167,
   "id": "JYAaoZ4qhfzW",
   "metadata": {
    "id": "JYAaoZ4qhfzW"
   },
   "outputs": [
    {
     "name": "stderr",
     "output_type": "stream",
     "text": [
      "/var/folders/vc/zgch74_n23sckf5dm03_fq380000gn/T/ipykernel_1045/1330702017.py:2: UserWarning:\n",
      "\n",
      "pandas only supports SQLAlchemy connectable (engine/connection) or database string URI or sqlite3 DBAPI2 connection. Other DBAPI2 objects are not tested. Please consider using SQLAlchemy.\n",
      "\n"
     ]
    },
    {
     "data": {
      "text/html": [
       "<div>\n",
       "<style scoped>\n",
       "    .dataframe tbody tr th:only-of-type {\n",
       "        vertical-align: middle;\n",
       "    }\n",
       "\n",
       "    .dataframe tbody tr th {\n",
       "        vertical-align: top;\n",
       "    }\n",
       "\n",
       "    .dataframe thead th {\n",
       "        text-align: right;\n",
       "    }\n",
       "</style>\n",
       "<table border=\"1\" class=\"dataframe\">\n",
       "  <thead>\n",
       "    <tr style=\"text-align: right;\">\n",
       "      <th></th>\n",
       "      <th>count</th>\n",
       "    </tr>\n",
       "  </thead>\n",
       "  <tbody>\n",
       "    <tr>\n",
       "      <th>0</th>\n",
       "      <td>294</td>\n",
       "    </tr>\n",
       "  </tbody>\n",
       "</table>\n",
       "</div>"
      ],
      "text/plain": [
       "   count\n",
       "0    294"
      ]
     },
     "execution_count": 167,
     "metadata": {},
     "output_type": "execute_result"
    }
   ],
   "source": [
    "# результат запроса\n",
    "pd.read_sql_query(query_3_4,connection)"
   ]
  },
  {
   "cell_type": "markdown",
   "id": "9a8a2181-6914-448b-85f1-38f5f18b8a93",
   "metadata": {
    "id": "9a8a2181-6914-448b-85f1-38f5f18b8a93"
   },
   "source": [
    "***"
   ]
  },
  {
   "cell_type": "markdown",
   "id": "be4e9bd3-a4db-4a20-82fb-6b02fc2957e0",
   "metadata": {
    "id": "be4e9bd3-a4db-4a20-82fb-6b02fc2957e0"
   },
   "source": [
    "# выводы по предварительному анализу данных\n",
    "по предварительному анализу можно сделать вывод что всего на тот момент на рынке труда было около 49 тысяч вакансий по 290 различным направлениям. из 49 тысяч вакансий имеется 29 тысяч работодателей, логично предположить, что большинство работодателей предлагают несколько вакансий, в детальном анализе это будет доказано.\n"
   ]
  },
  {
   "cell_type": "markdown",
   "id": "8d62a9f3-f64e-4fe7-bdac-c4dffa16155e",
   "metadata": {
    "id": "8d62a9f3-f64e-4fe7-bdac-c4dffa16155e"
   },
   "source": [
    "# Юнит 4. Детальный анализ вакансий"
   ]
  },
  {
   "cell_type": "markdown",
   "id": "93053d3d-b284-481a-9cf7-012d7014c0e0",
   "metadata": {
    "id": "93053d3d-b284-481a-9cf7-012d7014c0e0"
   },
   "source": [
    "1. Напишите запрос, который позволит узнать, сколько (cnt) вакансий в каждом регионе (area).\n",
    "Отсортируйте по количеству вакансий в порядке убывания."
   ]
  },
  {
   "cell_type": "code",
   "execution_count": 168,
   "id": "3f069da6-fdc9-4ae7-b514-fafe2675efd3",
   "metadata": {
    "id": "3f069da6-fdc9-4ae7-b514-fafe2675efd3"
   },
   "outputs": [],
   "source": [
    "# текст запроса \n",
    "query_4_1 = f''' select a.name, count(*)\n",
    "from vacancies v left join areas a on v.area_id = a.id \n",
    "group by a.name\n",
    "order by 2 desc\n",
    "'''"
   ]
  },
  {
   "cell_type": "code",
   "execution_count": 169,
   "id": "P7QL86hrjhRJ",
   "metadata": {
    "id": "P7QL86hrjhRJ"
   },
   "outputs": [
    {
     "name": "stderr",
     "output_type": "stream",
     "text": [
      "/var/folders/vc/zgch74_n23sckf5dm03_fq380000gn/T/ipykernel_1045/3847003360.py:2: UserWarning:\n",
      "\n",
      "pandas only supports SQLAlchemy connectable (engine/connection) or database string URI or sqlite3 DBAPI2 connection. Other DBAPI2 objects are not tested. Please consider using SQLAlchemy.\n",
      "\n"
     ]
    },
    {
     "data": {
      "text/html": [
       "<div>\n",
       "<style scoped>\n",
       "    .dataframe tbody tr th:only-of-type {\n",
       "        vertical-align: middle;\n",
       "    }\n",
       "\n",
       "    .dataframe tbody tr th {\n",
       "        vertical-align: top;\n",
       "    }\n",
       "\n",
       "    .dataframe thead th {\n",
       "        text-align: right;\n",
       "    }\n",
       "</style>\n",
       "<table border=\"1\" class=\"dataframe\">\n",
       "  <thead>\n",
       "    <tr style=\"text-align: right;\">\n",
       "      <th></th>\n",
       "      <th>name</th>\n",
       "      <th>count</th>\n",
       "    </tr>\n",
       "  </thead>\n",
       "  <tbody>\n",
       "    <tr>\n",
       "      <th>0</th>\n",
       "      <td>Москва</td>\n",
       "      <td>5333</td>\n",
       "    </tr>\n",
       "    <tr>\n",
       "      <th>1</th>\n",
       "      <td>Санкт-Петербург</td>\n",
       "      <td>2851</td>\n",
       "    </tr>\n",
       "    <tr>\n",
       "      <th>2</th>\n",
       "      <td>Минск</td>\n",
       "      <td>2112</td>\n",
       "    </tr>\n",
       "    <tr>\n",
       "      <th>3</th>\n",
       "      <td>Новосибирск</td>\n",
       "      <td>2006</td>\n",
       "    </tr>\n",
       "    <tr>\n",
       "      <th>4</th>\n",
       "      <td>Алматы</td>\n",
       "      <td>1892</td>\n",
       "    </tr>\n",
       "    <tr>\n",
       "      <th>...</th>\n",
       "      <td>...</td>\n",
       "      <td>...</td>\n",
       "    </tr>\n",
       "    <tr>\n",
       "      <th>764</th>\n",
       "      <td>Тарко-Сале</td>\n",
       "      <td>1</td>\n",
       "    </tr>\n",
       "    <tr>\n",
       "      <th>765</th>\n",
       "      <td>Новоаннинский</td>\n",
       "      <td>1</td>\n",
       "    </tr>\n",
       "    <tr>\n",
       "      <th>766</th>\n",
       "      <td>Бирск</td>\n",
       "      <td>1</td>\n",
       "    </tr>\n",
       "    <tr>\n",
       "      <th>767</th>\n",
       "      <td>Сасово</td>\n",
       "      <td>1</td>\n",
       "    </tr>\n",
       "    <tr>\n",
       "      <th>768</th>\n",
       "      <td>Анна</td>\n",
       "      <td>1</td>\n",
       "    </tr>\n",
       "  </tbody>\n",
       "</table>\n",
       "<p>769 rows × 2 columns</p>\n",
       "</div>"
      ],
      "text/plain": [
       "                name  count\n",
       "0             Москва   5333\n",
       "1    Санкт-Петербург   2851\n",
       "2              Минск   2112\n",
       "3        Новосибирск   2006\n",
       "4             Алматы   1892\n",
       "..               ...    ...\n",
       "764       Тарко-Сале      1\n",
       "765    Новоаннинский      1\n",
       "766            Бирск      1\n",
       "767           Сасово      1\n",
       "768             Анна      1\n",
       "\n",
       "[769 rows x 2 columns]"
      ]
     },
     "execution_count": 169,
     "metadata": {},
     "output_type": "execute_result"
    }
   ],
   "source": [
    "# результат запроса\n",
    "pd.read_sql_query(query_4_1, connection)    "
   ]
  },
  {
   "cell_type": "markdown",
   "id": "4266f0b6-1646-492a-88b4-2f6a46502135",
   "metadata": {
    "id": "4266f0b6-1646-492a-88b4-2f6a46502135"
   },
   "source": [
    "2. Напишите запрос, чтобы определить у какого количества вакансий заполнено хотя бы одно из двух полей с зарплатой."
   ]
  },
  {
   "cell_type": "code",
   "execution_count": 170,
   "id": "0c44b350-72eb-4d65-8b54-a1fc449ba9fd",
   "metadata": {
    "id": "0c44b350-72eb-4d65-8b54-a1fc449ba9fd"
   },
   "outputs": [],
   "source": [
    "# текст запроса\n",
    "query_4_2 = ''' select count(*)\n",
    "from vacancies where salary_from is not null or salary_to is not null\n",
    "\n",
    "\n",
    "'''"
   ]
  },
  {
   "cell_type": "code",
   "execution_count": 171,
   "id": "rhvwaMDkoWTi",
   "metadata": {
    "id": "rhvwaMDkoWTi"
   },
   "outputs": [
    {
     "name": "stderr",
     "output_type": "stream",
     "text": [
      "/var/folders/vc/zgch74_n23sckf5dm03_fq380000gn/T/ipykernel_1045/614600247.py:2: UserWarning:\n",
      "\n",
      "pandas only supports SQLAlchemy connectable (engine/connection) or database string URI or sqlite3 DBAPI2 connection. Other DBAPI2 objects are not tested. Please consider using SQLAlchemy.\n",
      "\n"
     ]
    },
    {
     "data": {
      "text/html": [
       "<div>\n",
       "<style scoped>\n",
       "    .dataframe tbody tr th:only-of-type {\n",
       "        vertical-align: middle;\n",
       "    }\n",
       "\n",
       "    .dataframe tbody tr th {\n",
       "        vertical-align: top;\n",
       "    }\n",
       "\n",
       "    .dataframe thead th {\n",
       "        text-align: right;\n",
       "    }\n",
       "</style>\n",
       "<table border=\"1\" class=\"dataframe\">\n",
       "  <thead>\n",
       "    <tr style=\"text-align: right;\">\n",
       "      <th></th>\n",
       "      <th>count</th>\n",
       "    </tr>\n",
       "  </thead>\n",
       "  <tbody>\n",
       "    <tr>\n",
       "      <th>0</th>\n",
       "      <td>24073</td>\n",
       "    </tr>\n",
       "  </tbody>\n",
       "</table>\n",
       "</div>"
      ],
      "text/plain": [
       "   count\n",
       "0  24073"
      ]
     },
     "execution_count": 171,
     "metadata": {},
     "output_type": "execute_result"
    }
   ],
   "source": [
    "# результат запроса\n",
    "pd.read_sql_query(query_4_2, connection)"
   ]
  },
  {
   "cell_type": "markdown",
   "id": "635c4d5d-f323-4c66-b428-50a088120aa0",
   "metadata": {
    "id": "635c4d5d-f323-4c66-b428-50a088120aa0"
   },
   "source": [
    "3. Найдите средние значения для нижней и верхней границы зарплатной вилки. Округлите значения до целого."
   ]
  },
  {
   "cell_type": "code",
   "execution_count": 172,
   "id": "603cdbe4-0ec3-4106-8eaf-c73fcdd29165",
   "metadata": {
    "id": "603cdbe4-0ec3-4106-8eaf-c73fcdd29165"
   },
   "outputs": [],
   "source": [
    "# текст запроса\n",
    "\n",
    "# Конечно через пандас вычислить эти средние значения можно было бы в разы быстрее и легче, но проект то про SQL :)\n",
    "query_4_3 = ''' with x as (select salary_from salary, 'минималка' border_type\n",
    "from vacancies where salary_from is not null\n",
    "union all\n",
    "select salary_to, 'максималка'\n",
    "from vacancies where salary_to is not null)\n",
    "\n",
    "select 'Минималка среднее:' mean_type , Round(Sum(salary)/count(*)::float) mean_value \n",
    "from x where border_type = 'минималка'\n",
    "union \n",
    "select 'Максималка среднее:', Round(Sum(salary)/count(*)::float) \n",
    "from x where border_type = 'максималка'\n",
    "'''"
   ]
  },
  {
   "cell_type": "code",
   "execution_count": 173,
   "id": "pswpAb66ovZZ",
   "metadata": {
    "id": "pswpAb66ovZZ"
   },
   "outputs": [
    {
     "name": "stderr",
     "output_type": "stream",
     "text": [
      "/var/folders/vc/zgch74_n23sckf5dm03_fq380000gn/T/ipykernel_1045/3354881684.py:2: UserWarning:\n",
      "\n",
      "pandas only supports SQLAlchemy connectable (engine/connection) or database string URI or sqlite3 DBAPI2 connection. Other DBAPI2 objects are not tested. Please consider using SQLAlchemy.\n",
      "\n"
     ]
    },
    {
     "data": {
      "text/html": [
       "<div>\n",
       "<style scoped>\n",
       "    .dataframe tbody tr th:only-of-type {\n",
       "        vertical-align: middle;\n",
       "    }\n",
       "\n",
       "    .dataframe tbody tr th {\n",
       "        vertical-align: top;\n",
       "    }\n",
       "\n",
       "    .dataframe thead th {\n",
       "        text-align: right;\n",
       "    }\n",
       "</style>\n",
       "<table border=\"1\" class=\"dataframe\">\n",
       "  <thead>\n",
       "    <tr style=\"text-align: right;\">\n",
       "      <th></th>\n",
       "      <th>mean_type</th>\n",
       "      <th>mean_value</th>\n",
       "    </tr>\n",
       "  </thead>\n",
       "  <tbody>\n",
       "    <tr>\n",
       "      <th>0</th>\n",
       "      <td>Максималка среднее:</td>\n",
       "      <td>110537.0</td>\n",
       "    </tr>\n",
       "    <tr>\n",
       "      <th>1</th>\n",
       "      <td>Минималка среднее:</td>\n",
       "      <td>71065.0</td>\n",
       "    </tr>\n",
       "  </tbody>\n",
       "</table>\n",
       "</div>"
      ],
      "text/plain": [
       "             mean_type  mean_value\n",
       "0  Максималка среднее:    110537.0\n",
       "1   Минималка среднее:     71065.0"
      ]
     },
     "execution_count": 173,
     "metadata": {},
     "output_type": "execute_result"
    }
   ],
   "source": [
    "# результат запроса\n",
    "pd.read_sql_query(query_4_3, connection)\n"
   ]
  },
  {
   "cell_type": "markdown",
   "id": "f3fdaec9-5fd3-4260-9cf5-1d7406b628a5",
   "metadata": {
    "id": "f3fdaec9-5fd3-4260-9cf5-1d7406b628a5"
   },
   "source": [
    "4. Напишите запрос, который выведет количество вакансий для каждого сочетания типа рабочего графика (schedule) и типа трудоустройства (employment), используемого в вакансиях. Результат отсортируйте по убыванию количества.\n"
   ]
  },
  {
   "cell_type": "code",
   "execution_count": 174,
   "id": "1ea710ec-871b-431e-9462-c7d0fd87011b",
   "metadata": {
    "id": "1ea710ec-871b-431e-9462-c7d0fd87011b"
   },
   "outputs": [],
   "source": [
    "# текст запроса \n",
    "query_4_4 = '''select schedule, employment, count(*) cnt\n",
    "from vacancies\n",
    "group by schedule, employment\n",
    "order by count(*) desc\n",
    "'''"
   ]
  },
  {
   "cell_type": "code",
   "execution_count": 175,
   "id": "lGUVqavdo4JQ",
   "metadata": {
    "id": "lGUVqavdo4JQ"
   },
   "outputs": [
    {
     "name": "stderr",
     "output_type": "stream",
     "text": [
      "/var/folders/vc/zgch74_n23sckf5dm03_fq380000gn/T/ipykernel_1045/2630570843.py:2: UserWarning:\n",
      "\n",
      "pandas only supports SQLAlchemy connectable (engine/connection) or database string URI or sqlite3 DBAPI2 connection. Other DBAPI2 objects are not tested. Please consider using SQLAlchemy.\n",
      "\n"
     ]
    },
    {
     "data": {
      "text/html": [
       "<div>\n",
       "<style scoped>\n",
       "    .dataframe tbody tr th:only-of-type {\n",
       "        vertical-align: middle;\n",
       "    }\n",
       "\n",
       "    .dataframe tbody tr th {\n",
       "        vertical-align: top;\n",
       "    }\n",
       "\n",
       "    .dataframe thead th {\n",
       "        text-align: right;\n",
       "    }\n",
       "</style>\n",
       "<table border=\"1\" class=\"dataframe\">\n",
       "  <thead>\n",
       "    <tr style=\"text-align: right;\">\n",
       "      <th></th>\n",
       "      <th>schedule</th>\n",
       "      <th>employment</th>\n",
       "      <th>cnt</th>\n",
       "    </tr>\n",
       "  </thead>\n",
       "  <tbody>\n",
       "    <tr>\n",
       "      <th>0</th>\n",
       "      <td>Полный день</td>\n",
       "      <td>Полная занятость</td>\n",
       "      <td>35367</td>\n",
       "    </tr>\n",
       "    <tr>\n",
       "      <th>1</th>\n",
       "      <td>Удаленная работа</td>\n",
       "      <td>Полная занятость</td>\n",
       "      <td>7802</td>\n",
       "    </tr>\n",
       "    <tr>\n",
       "      <th>2</th>\n",
       "      <td>Гибкий график</td>\n",
       "      <td>Полная занятость</td>\n",
       "      <td>1593</td>\n",
       "    </tr>\n",
       "    <tr>\n",
       "      <th>3</th>\n",
       "      <td>Удаленная работа</td>\n",
       "      <td>Частичная занятость</td>\n",
       "      <td>1312</td>\n",
       "    </tr>\n",
       "    <tr>\n",
       "      <th>4</th>\n",
       "      <td>Сменный график</td>\n",
       "      <td>Полная занятость</td>\n",
       "      <td>940</td>\n",
       "    </tr>\n",
       "    <tr>\n",
       "      <th>5</th>\n",
       "      <td>Полный день</td>\n",
       "      <td>Стажировка</td>\n",
       "      <td>569</td>\n",
       "    </tr>\n",
       "    <tr>\n",
       "      <th>6</th>\n",
       "      <td>Вахтовый метод</td>\n",
       "      <td>Полная занятость</td>\n",
       "      <td>367</td>\n",
       "    </tr>\n",
       "    <tr>\n",
       "      <th>7</th>\n",
       "      <td>Полный день</td>\n",
       "      <td>Частичная занятость</td>\n",
       "      <td>347</td>\n",
       "    </tr>\n",
       "    <tr>\n",
       "      <th>8</th>\n",
       "      <td>Гибкий график</td>\n",
       "      <td>Частичная занятость</td>\n",
       "      <td>312</td>\n",
       "    </tr>\n",
       "    <tr>\n",
       "      <th>9</th>\n",
       "      <td>Полный день</td>\n",
       "      <td>Проектная работа</td>\n",
       "      <td>141</td>\n",
       "    </tr>\n",
       "    <tr>\n",
       "      <th>10</th>\n",
       "      <td>Удаленная работа</td>\n",
       "      <td>Проектная работа</td>\n",
       "      <td>133</td>\n",
       "    </tr>\n",
       "    <tr>\n",
       "      <th>11</th>\n",
       "      <td>Гибкий график</td>\n",
       "      <td>Стажировка</td>\n",
       "      <td>116</td>\n",
       "    </tr>\n",
       "    <tr>\n",
       "      <th>12</th>\n",
       "      <td>Сменный график</td>\n",
       "      <td>Частичная занятость</td>\n",
       "      <td>101</td>\n",
       "    </tr>\n",
       "    <tr>\n",
       "      <th>13</th>\n",
       "      <td>Удаленная работа</td>\n",
       "      <td>Стажировка</td>\n",
       "      <td>64</td>\n",
       "    </tr>\n",
       "    <tr>\n",
       "      <th>14</th>\n",
       "      <td>Гибкий график</td>\n",
       "      <td>Проектная работа</td>\n",
       "      <td>18</td>\n",
       "    </tr>\n",
       "    <tr>\n",
       "      <th>15</th>\n",
       "      <td>Сменный график</td>\n",
       "      <td>Стажировка</td>\n",
       "      <td>12</td>\n",
       "    </tr>\n",
       "    <tr>\n",
       "      <th>16</th>\n",
       "      <td>Вахтовый метод</td>\n",
       "      <td>Проектная работа</td>\n",
       "      <td>2</td>\n",
       "    </tr>\n",
       "    <tr>\n",
       "      <th>17</th>\n",
       "      <td>Сменный график</td>\n",
       "      <td>Проектная работа</td>\n",
       "      <td>1</td>\n",
       "    </tr>\n",
       "  </tbody>\n",
       "</table>\n",
       "</div>"
      ],
      "text/plain": [
       "            schedule           employment    cnt\n",
       "0        Полный день     Полная занятость  35367\n",
       "1   Удаленная работа     Полная занятость   7802\n",
       "2      Гибкий график     Полная занятость   1593\n",
       "3   Удаленная работа  Частичная занятость   1312\n",
       "4     Сменный график     Полная занятость    940\n",
       "5        Полный день           Стажировка    569\n",
       "6     Вахтовый метод     Полная занятость    367\n",
       "7        Полный день  Частичная занятость    347\n",
       "8      Гибкий график  Частичная занятость    312\n",
       "9        Полный день     Проектная работа    141\n",
       "10  Удаленная работа     Проектная работа    133\n",
       "11     Гибкий график           Стажировка    116\n",
       "12    Сменный график  Частичная занятость    101\n",
       "13  Удаленная работа           Стажировка     64\n",
       "14     Гибкий график     Проектная работа     18\n",
       "15    Сменный график           Стажировка     12\n",
       "16    Вахтовый метод     Проектная работа      2\n",
       "17    Сменный график     Проектная работа      1"
      ]
     },
     "execution_count": 175,
     "metadata": {},
     "output_type": "execute_result"
    }
   ],
   "source": [
    "# результат запроса\n",
    "pd.read_sql_query(query_4_4, connection)"
   ]
  },
  {
   "cell_type": "markdown",
   "id": "0136ffee-0ead-4a6b-b608-61d1c753a438",
   "metadata": {
    "id": "0136ffee-0ead-4a6b-b608-61d1c753a438"
   },
   "source": [
    "5. Напишите запрос, выводящий значения поля Требуемый опыт работы (experience) в порядке возрастания количества вакансий, в которых указан данный вариант опыта. "
   ]
  },
  {
   "cell_type": "code",
   "execution_count": 176,
   "id": "5b3a8e79-f7ab-4008-b767-12aea3a205ea",
   "metadata": {
    "id": "5b3a8e79-f7ab-4008-b767-12aea3a205ea"
   },
   "outputs": [],
   "source": [
    "# текст запроса \n",
    "query_4_5 = '''select experience, count(*) cnt\n",
    "from vacancies \n",
    "group by experience\n",
    "order by count(*) asc\n",
    "'''"
   ]
  },
  {
   "cell_type": "code",
   "execution_count": 177,
   "id": "3Is64Y-hpDpq",
   "metadata": {
    "id": "3Is64Y-hpDpq"
   },
   "outputs": [
    {
     "name": "stderr",
     "output_type": "stream",
     "text": [
      "/var/folders/vc/zgch74_n23sckf5dm03_fq380000gn/T/ipykernel_1045/3190483664.py:2: UserWarning:\n",
      "\n",
      "pandas only supports SQLAlchemy connectable (engine/connection) or database string URI or sqlite3 DBAPI2 connection. Other DBAPI2 objects are not tested. Please consider using SQLAlchemy.\n",
      "\n"
     ]
    },
    {
     "data": {
      "text/html": [
       "<div>\n",
       "<style scoped>\n",
       "    .dataframe tbody tr th:only-of-type {\n",
       "        vertical-align: middle;\n",
       "    }\n",
       "\n",
       "    .dataframe tbody tr th {\n",
       "        vertical-align: top;\n",
       "    }\n",
       "\n",
       "    .dataframe thead th {\n",
       "        text-align: right;\n",
       "    }\n",
       "</style>\n",
       "<table border=\"1\" class=\"dataframe\">\n",
       "  <thead>\n",
       "    <tr style=\"text-align: right;\">\n",
       "      <th></th>\n",
       "      <th>experience</th>\n",
       "      <th>cnt</th>\n",
       "    </tr>\n",
       "  </thead>\n",
       "  <tbody>\n",
       "    <tr>\n",
       "      <th>0</th>\n",
       "      <td>Более 6 лет</td>\n",
       "      <td>1337</td>\n",
       "    </tr>\n",
       "    <tr>\n",
       "      <th>1</th>\n",
       "      <td>Нет опыта</td>\n",
       "      <td>7197</td>\n",
       "    </tr>\n",
       "    <tr>\n",
       "      <th>2</th>\n",
       "      <td>От 3 до 6 лет</td>\n",
       "      <td>14511</td>\n",
       "    </tr>\n",
       "    <tr>\n",
       "      <th>3</th>\n",
       "      <td>От 1 года до 3 лет</td>\n",
       "      <td>26152</td>\n",
       "    </tr>\n",
       "  </tbody>\n",
       "</table>\n",
       "</div>"
      ],
      "text/plain": [
       "           experience    cnt\n",
       "0         Более 6 лет   1337\n",
       "1           Нет опыта   7197\n",
       "2       От 3 до 6 лет  14511\n",
       "3  От 1 года до 3 лет  26152"
      ]
     },
     "execution_count": 177,
     "metadata": {},
     "output_type": "execute_result"
    }
   ],
   "source": [
    "# результат запроса\n",
    "pd.read_sql_query(query_4_5, connection)"
   ]
  },
  {
   "cell_type": "code",
   "execution_count": 178,
   "id": "7d778360",
   "metadata": {},
   "outputs": [
    {
     "name": "stderr",
     "output_type": "stream",
     "text": [
      "/var/folders/vc/zgch74_n23sckf5dm03_fq380000gn/T/ipykernel_1045/1009382269.py:3: UserWarning:\n",
      "\n",
      "pandas only supports SQLAlchemy connectable (engine/connection) or database string URI or sqlite3 DBAPI2 connection. Other DBAPI2 objects are not tested. Please consider using SQLAlchemy.\n",
      "\n"
     ]
    },
    {
     "data": {
      "application/vnd.plotly.v1+json": {
       "config": {
        "plotlyServerURL": "https://plot.ly"
       },
       "data": [
        {
         "alignmentgroup": "True",
         "hovertemplate": "experience=%{x}<br>cnt=%{y}<extra></extra>",
         "legendgroup": "",
         "marker": {
          "color": "#636efa",
          "pattern": {
           "shape": ""
          }
         },
         "name": "",
         "offsetgroup": "",
         "orientation": "v",
         "showlegend": false,
         "textposition": "auto",
         "type": "bar",
         "x": [
          "Более 6 лет",
          "Нет опыта",
          "От 3 до 6 лет",
          "От 1 года до 3 лет"
         ],
         "xaxis": "x",
         "y": [
          1337,
          7197,
          14511,
          26152
         ],
         "yaxis": "y"
        }
       ],
       "layout": {
        "barmode": "relative",
        "legend": {
         "tracegroupgap": 0
        },
        "template": {
         "data": {
          "bar": [
           {
            "error_x": {
             "color": "#2a3f5f"
            },
            "error_y": {
             "color": "#2a3f5f"
            },
            "marker": {
             "line": {
              "color": "#E5ECF6",
              "width": 0.5
             },
             "pattern": {
              "fillmode": "overlay",
              "size": 10,
              "solidity": 0.2
             }
            },
            "type": "bar"
           }
          ],
          "barpolar": [
           {
            "marker": {
             "line": {
              "color": "#E5ECF6",
              "width": 0.5
             },
             "pattern": {
              "fillmode": "overlay",
              "size": 10,
              "solidity": 0.2
             }
            },
            "type": "barpolar"
           }
          ],
          "carpet": [
           {
            "aaxis": {
             "endlinecolor": "#2a3f5f",
             "gridcolor": "white",
             "linecolor": "white",
             "minorgridcolor": "white",
             "startlinecolor": "#2a3f5f"
            },
            "baxis": {
             "endlinecolor": "#2a3f5f",
             "gridcolor": "white",
             "linecolor": "white",
             "minorgridcolor": "white",
             "startlinecolor": "#2a3f5f"
            },
            "type": "carpet"
           }
          ],
          "choropleth": [
           {
            "colorbar": {
             "outlinewidth": 0,
             "ticks": ""
            },
            "type": "choropleth"
           }
          ],
          "contour": [
           {
            "colorbar": {
             "outlinewidth": 0,
             "ticks": ""
            },
            "colorscale": [
             [
              0,
              "#0d0887"
             ],
             [
              0.1111111111111111,
              "#46039f"
             ],
             [
              0.2222222222222222,
              "#7201a8"
             ],
             [
              0.3333333333333333,
              "#9c179e"
             ],
             [
              0.4444444444444444,
              "#bd3786"
             ],
             [
              0.5555555555555556,
              "#d8576b"
             ],
             [
              0.6666666666666666,
              "#ed7953"
             ],
             [
              0.7777777777777778,
              "#fb9f3a"
             ],
             [
              0.8888888888888888,
              "#fdca26"
             ],
             [
              1,
              "#f0f921"
             ]
            ],
            "type": "contour"
           }
          ],
          "contourcarpet": [
           {
            "colorbar": {
             "outlinewidth": 0,
             "ticks": ""
            },
            "type": "contourcarpet"
           }
          ],
          "heatmap": [
           {
            "colorbar": {
             "outlinewidth": 0,
             "ticks": ""
            },
            "colorscale": [
             [
              0,
              "#0d0887"
             ],
             [
              0.1111111111111111,
              "#46039f"
             ],
             [
              0.2222222222222222,
              "#7201a8"
             ],
             [
              0.3333333333333333,
              "#9c179e"
             ],
             [
              0.4444444444444444,
              "#bd3786"
             ],
             [
              0.5555555555555556,
              "#d8576b"
             ],
             [
              0.6666666666666666,
              "#ed7953"
             ],
             [
              0.7777777777777778,
              "#fb9f3a"
             ],
             [
              0.8888888888888888,
              "#fdca26"
             ],
             [
              1,
              "#f0f921"
             ]
            ],
            "type": "heatmap"
           }
          ],
          "heatmapgl": [
           {
            "colorbar": {
             "outlinewidth": 0,
             "ticks": ""
            },
            "colorscale": [
             [
              0,
              "#0d0887"
             ],
             [
              0.1111111111111111,
              "#46039f"
             ],
             [
              0.2222222222222222,
              "#7201a8"
             ],
             [
              0.3333333333333333,
              "#9c179e"
             ],
             [
              0.4444444444444444,
              "#bd3786"
             ],
             [
              0.5555555555555556,
              "#d8576b"
             ],
             [
              0.6666666666666666,
              "#ed7953"
             ],
             [
              0.7777777777777778,
              "#fb9f3a"
             ],
             [
              0.8888888888888888,
              "#fdca26"
             ],
             [
              1,
              "#f0f921"
             ]
            ],
            "type": "heatmapgl"
           }
          ],
          "histogram": [
           {
            "marker": {
             "pattern": {
              "fillmode": "overlay",
              "size": 10,
              "solidity": 0.2
             }
            },
            "type": "histogram"
           }
          ],
          "histogram2d": [
           {
            "colorbar": {
             "outlinewidth": 0,
             "ticks": ""
            },
            "colorscale": [
             [
              0,
              "#0d0887"
             ],
             [
              0.1111111111111111,
              "#46039f"
             ],
             [
              0.2222222222222222,
              "#7201a8"
             ],
             [
              0.3333333333333333,
              "#9c179e"
             ],
             [
              0.4444444444444444,
              "#bd3786"
             ],
             [
              0.5555555555555556,
              "#d8576b"
             ],
             [
              0.6666666666666666,
              "#ed7953"
             ],
             [
              0.7777777777777778,
              "#fb9f3a"
             ],
             [
              0.8888888888888888,
              "#fdca26"
             ],
             [
              1,
              "#f0f921"
             ]
            ],
            "type": "histogram2d"
           }
          ],
          "histogram2dcontour": [
           {
            "colorbar": {
             "outlinewidth": 0,
             "ticks": ""
            },
            "colorscale": [
             [
              0,
              "#0d0887"
             ],
             [
              0.1111111111111111,
              "#46039f"
             ],
             [
              0.2222222222222222,
              "#7201a8"
             ],
             [
              0.3333333333333333,
              "#9c179e"
             ],
             [
              0.4444444444444444,
              "#bd3786"
             ],
             [
              0.5555555555555556,
              "#d8576b"
             ],
             [
              0.6666666666666666,
              "#ed7953"
             ],
             [
              0.7777777777777778,
              "#fb9f3a"
             ],
             [
              0.8888888888888888,
              "#fdca26"
             ],
             [
              1,
              "#f0f921"
             ]
            ],
            "type": "histogram2dcontour"
           }
          ],
          "mesh3d": [
           {
            "colorbar": {
             "outlinewidth": 0,
             "ticks": ""
            },
            "type": "mesh3d"
           }
          ],
          "parcoords": [
           {
            "line": {
             "colorbar": {
              "outlinewidth": 0,
              "ticks": ""
             }
            },
            "type": "parcoords"
           }
          ],
          "pie": [
           {
            "automargin": true,
            "type": "pie"
           }
          ],
          "scatter": [
           {
            "fillpattern": {
             "fillmode": "overlay",
             "size": 10,
             "solidity": 0.2
            },
            "type": "scatter"
           }
          ],
          "scatter3d": [
           {
            "line": {
             "colorbar": {
              "outlinewidth": 0,
              "ticks": ""
             }
            },
            "marker": {
             "colorbar": {
              "outlinewidth": 0,
              "ticks": ""
             }
            },
            "type": "scatter3d"
           }
          ],
          "scattercarpet": [
           {
            "marker": {
             "colorbar": {
              "outlinewidth": 0,
              "ticks": ""
             }
            },
            "type": "scattercarpet"
           }
          ],
          "scattergeo": [
           {
            "marker": {
             "colorbar": {
              "outlinewidth": 0,
              "ticks": ""
             }
            },
            "type": "scattergeo"
           }
          ],
          "scattergl": [
           {
            "marker": {
             "colorbar": {
              "outlinewidth": 0,
              "ticks": ""
             }
            },
            "type": "scattergl"
           }
          ],
          "scattermapbox": [
           {
            "marker": {
             "colorbar": {
              "outlinewidth": 0,
              "ticks": ""
             }
            },
            "type": "scattermapbox"
           }
          ],
          "scatterpolar": [
           {
            "marker": {
             "colorbar": {
              "outlinewidth": 0,
              "ticks": ""
             }
            },
            "type": "scatterpolar"
           }
          ],
          "scatterpolargl": [
           {
            "marker": {
             "colorbar": {
              "outlinewidth": 0,
              "ticks": ""
             }
            },
            "type": "scatterpolargl"
           }
          ],
          "scatterternary": [
           {
            "marker": {
             "colorbar": {
              "outlinewidth": 0,
              "ticks": ""
             }
            },
            "type": "scatterternary"
           }
          ],
          "surface": [
           {
            "colorbar": {
             "outlinewidth": 0,
             "ticks": ""
            },
            "colorscale": [
             [
              0,
              "#0d0887"
             ],
             [
              0.1111111111111111,
              "#46039f"
             ],
             [
              0.2222222222222222,
              "#7201a8"
             ],
             [
              0.3333333333333333,
              "#9c179e"
             ],
             [
              0.4444444444444444,
              "#bd3786"
             ],
             [
              0.5555555555555556,
              "#d8576b"
             ],
             [
              0.6666666666666666,
              "#ed7953"
             ],
             [
              0.7777777777777778,
              "#fb9f3a"
             ],
             [
              0.8888888888888888,
              "#fdca26"
             ],
             [
              1,
              "#f0f921"
             ]
            ],
            "type": "surface"
           }
          ],
          "table": [
           {
            "cells": {
             "fill": {
              "color": "#EBF0F8"
             },
             "line": {
              "color": "white"
             }
            },
            "header": {
             "fill": {
              "color": "#C8D4E3"
             },
             "line": {
              "color": "white"
             }
            },
            "type": "table"
           }
          ]
         },
         "layout": {
          "annotationdefaults": {
           "arrowcolor": "#2a3f5f",
           "arrowhead": 0,
           "arrowwidth": 1
          },
          "autotypenumbers": "strict",
          "coloraxis": {
           "colorbar": {
            "outlinewidth": 0,
            "ticks": ""
           }
          },
          "colorscale": {
           "diverging": [
            [
             0,
             "#8e0152"
            ],
            [
             0.1,
             "#c51b7d"
            ],
            [
             0.2,
             "#de77ae"
            ],
            [
             0.3,
             "#f1b6da"
            ],
            [
             0.4,
             "#fde0ef"
            ],
            [
             0.5,
             "#f7f7f7"
            ],
            [
             0.6,
             "#e6f5d0"
            ],
            [
             0.7,
             "#b8e186"
            ],
            [
             0.8,
             "#7fbc41"
            ],
            [
             0.9,
             "#4d9221"
            ],
            [
             1,
             "#276419"
            ]
           ],
           "sequential": [
            [
             0,
             "#0d0887"
            ],
            [
             0.1111111111111111,
             "#46039f"
            ],
            [
             0.2222222222222222,
             "#7201a8"
            ],
            [
             0.3333333333333333,
             "#9c179e"
            ],
            [
             0.4444444444444444,
             "#bd3786"
            ],
            [
             0.5555555555555556,
             "#d8576b"
            ],
            [
             0.6666666666666666,
             "#ed7953"
            ],
            [
             0.7777777777777778,
             "#fb9f3a"
            ],
            [
             0.8888888888888888,
             "#fdca26"
            ],
            [
             1,
             "#f0f921"
            ]
           ],
           "sequentialminus": [
            [
             0,
             "#0d0887"
            ],
            [
             0.1111111111111111,
             "#46039f"
            ],
            [
             0.2222222222222222,
             "#7201a8"
            ],
            [
             0.3333333333333333,
             "#9c179e"
            ],
            [
             0.4444444444444444,
             "#bd3786"
            ],
            [
             0.5555555555555556,
             "#d8576b"
            ],
            [
             0.6666666666666666,
             "#ed7953"
            ],
            [
             0.7777777777777778,
             "#fb9f3a"
            ],
            [
             0.8888888888888888,
             "#fdca26"
            ],
            [
             1,
             "#f0f921"
            ]
           ]
          },
          "colorway": [
           "#636efa",
           "#EF553B",
           "#00cc96",
           "#ab63fa",
           "#FFA15A",
           "#19d3f3",
           "#FF6692",
           "#B6E880",
           "#FF97FF",
           "#FECB52"
          ],
          "font": {
           "color": "#2a3f5f"
          },
          "geo": {
           "bgcolor": "white",
           "lakecolor": "white",
           "landcolor": "#E5ECF6",
           "showlakes": true,
           "showland": true,
           "subunitcolor": "white"
          },
          "hoverlabel": {
           "align": "left"
          },
          "hovermode": "closest",
          "mapbox": {
           "style": "light"
          },
          "paper_bgcolor": "white",
          "plot_bgcolor": "#E5ECF6",
          "polar": {
           "angularaxis": {
            "gridcolor": "white",
            "linecolor": "white",
            "ticks": ""
           },
           "bgcolor": "#E5ECF6",
           "radialaxis": {
            "gridcolor": "white",
            "linecolor": "white",
            "ticks": ""
           }
          },
          "scene": {
           "xaxis": {
            "backgroundcolor": "#E5ECF6",
            "gridcolor": "white",
            "gridwidth": 2,
            "linecolor": "white",
            "showbackground": true,
            "ticks": "",
            "zerolinecolor": "white"
           },
           "yaxis": {
            "backgroundcolor": "#E5ECF6",
            "gridcolor": "white",
            "gridwidth": 2,
            "linecolor": "white",
            "showbackground": true,
            "ticks": "",
            "zerolinecolor": "white"
           },
           "zaxis": {
            "backgroundcolor": "#E5ECF6",
            "gridcolor": "white",
            "gridwidth": 2,
            "linecolor": "white",
            "showbackground": true,
            "ticks": "",
            "zerolinecolor": "white"
           }
          },
          "shapedefaults": {
           "line": {
            "color": "#2a3f5f"
           }
          },
          "ternary": {
           "aaxis": {
            "gridcolor": "white",
            "linecolor": "white",
            "ticks": ""
           },
           "baxis": {
            "gridcolor": "white",
            "linecolor": "white",
            "ticks": ""
           },
           "bgcolor": "#E5ECF6",
           "caxis": {
            "gridcolor": "white",
            "linecolor": "white",
            "ticks": ""
           }
          },
          "title": {
           "x": 0.05
          },
          "xaxis": {
           "automargin": true,
           "gridcolor": "white",
           "linecolor": "white",
           "ticks": "",
           "title": {
            "standoff": 15
           },
           "zerolinecolor": "white",
           "zerolinewidth": 2
          },
          "yaxis": {
           "automargin": true,
           "gridcolor": "white",
           "linecolor": "white",
           "ticks": "",
           "title": {
            "standoff": 15
           },
           "zerolinecolor": "white",
           "zerolinewidth": 2
          }
         }
        },
        "title": {
         "text": "График количества вакансий по опыту работы"
        },
        "xaxis": {
         "anchor": "y",
         "domain": [
          0,
          1
         ],
         "title": {
          "text": "experience"
         }
        },
        "yaxis": {
         "anchor": "x",
         "domain": [
          0,
          1
         ],
         "title": {
          "text": "cnt"
         }
        }
       }
      }
     },
     "metadata": {},
     "output_type": "display_data"
    }
   ],
   "source": [
    "# вывод графика для детального анализа\n",
    "import plotly.express as px\n",
    "px.bar(pd.read_sql_query(query_4_5, connection), x='experience', y='cnt', title='График количества вакансий по опыту работы')\n"
   ]
  },
  {
   "cell_type": "markdown",
   "id": "oq2b7n1QpIka",
   "metadata": {
    "id": "oq2b7n1QpIka"
   },
   "source": [
    "***"
   ]
  },
  {
   "cell_type": "markdown",
   "id": "e91f87ed-e25c-4f96-9f92-b642e8c0b4fa",
   "metadata": {
    "id": "e91f87ed-e25c-4f96-9f92-b642e8c0b4fa"
   },
   "source": [
    "# Вывод по детальному анализу \n",
    "По данному графику можно сделать вывод, что наибольшее количество вакансий\n",
    "предполагает опыт работы от 1 до 3 лет, а также от 3 до 6 лет.\n",
    "То есть, большинство вакансий ищут **Junior+/Middle** и **Strong Middle** специалистов.\n",
    "\n",
    "По первому запросу же, можно сделать вывод, что наибольшее количество вакансий ищут работников в Москве\n",
    "А так же наиболее популярный тип графика и занятости - полный рабочий день и постоянная занятость"
   ]
  },
  {
   "cell_type": "markdown",
   "id": "7ea20ab6-04a7-40a0-adec-443a0e5a42c3",
   "metadata": {
    "id": "7ea20ab6-04a7-40a0-adec-443a0e5a42c3"
   },
   "source": [
    "# Юнит 5. Анализ работодателей"
   ]
  },
  {
   "cell_type": "markdown",
   "id": "968aed80-74ef-4ffb-b5bf-c65b84e9caea",
   "metadata": {
    "id": "968aed80-74ef-4ffb-b5bf-c65b84e9caea"
   },
   "source": [
    "1. Напишите запрос, который позволит узнать, какие работодатели находятся на первом и пятом месте по количеству вакансий."
   ]
  },
  {
   "cell_type": "code",
   "execution_count": 179,
   "id": "f2d62796-d400-4ec1-a675-88112739a50e",
   "metadata": {
    "id": "f2d62796-d400-4ec1-a675-88112739a50e"
   },
   "outputs": [],
   "source": [
    "# текст запроса\n",
    "\n",
    "query_5_1 = '''with x as (select e.name, count(*) cnt\n",
    "from vacancies v left join employers e on v.employer_id = e.id\n",
    "group by e.name\n",
    "order by 2 desc)\n",
    "\n",
    "(select name, cnt from x limit 1)\n",
    "union (select name, cnt from x offset 4 limit 1)\n",
    "'''\n",
    "# думаю разом запросить таблицу и потом оттуда просто выбрать 1 и 5 элементы будет быстрее, чем делать 2 запроса "
   ]
  },
  {
   "cell_type": "code",
   "execution_count": 180,
   "id": "64tOMkAxqkQk",
   "metadata": {
    "id": "64tOMkAxqkQk"
   },
   "outputs": [
    {
     "name": "stderr",
     "output_type": "stream",
     "text": [
      "/var/folders/vc/zgch74_n23sckf5dm03_fq380000gn/T/ipykernel_1045/1268079039.py:3: UserWarning:\n",
      "\n",
      "pandas only supports SQLAlchemy connectable (engine/connection) or database string URI or sqlite3 DBAPI2 connection. Other DBAPI2 objects are not tested. Please consider using SQLAlchemy.\n",
      "\n"
     ]
    },
    {
     "data": {
      "text/html": [
       "<div>\n",
       "<style scoped>\n",
       "    .dataframe tbody tr th:only-of-type {\n",
       "        vertical-align: middle;\n",
       "    }\n",
       "\n",
       "    .dataframe tbody tr th {\n",
       "        vertical-align: top;\n",
       "    }\n",
       "\n",
       "    .dataframe thead th {\n",
       "        text-align: right;\n",
       "    }\n",
       "</style>\n",
       "<table border=\"1\" class=\"dataframe\">\n",
       "  <thead>\n",
       "    <tr style=\"text-align: right;\">\n",
       "      <th></th>\n",
       "      <th>name</th>\n",
       "      <th>cnt</th>\n",
       "    </tr>\n",
       "  </thead>\n",
       "  <tbody>\n",
       "    <tr>\n",
       "      <th>0</th>\n",
       "      <td>Газпром нефть</td>\n",
       "      <td>331</td>\n",
       "    </tr>\n",
       "    <tr>\n",
       "      <th>1</th>\n",
       "      <td>Яндекс</td>\n",
       "      <td>1933</td>\n",
       "    </tr>\n",
       "  </tbody>\n",
       "</table>\n",
       "</div>"
      ],
      "text/plain": [
       "            name   cnt\n",
       "0  Газпром нефть   331\n",
       "1         Яндекс  1933"
      ]
     },
     "execution_count": 180,
     "metadata": {},
     "output_type": "execute_result"
    }
   ],
   "source": [
    "# результат запроса\n",
    "\n",
    "pd.read_sql_query(query_5_1, connection)"
   ]
  },
  {
   "cell_type": "markdown",
   "id": "68377cfc-b378-43dc-ab7d-1195abf2c515",
   "metadata": {
    "id": "68377cfc-b378-43dc-ab7d-1195abf2c515"
   },
   "source": [
    "2. Напишите запрос, который для каждого региона выведет количество работодателей и вакансий в нём.\n",
    "Среди регионов, в которых нет вакансий, найдите тот, в котором наибольшее количество работодателей.\n"
   ]
  },
  {
   "cell_type": "code",
   "execution_count": 181,
   "id": "dd7df27a-e3e8-412e-a21a-5d389b71e891",
   "metadata": {
    "id": "dd7df27a-e3e8-412e-a21a-5d389b71e891"
   },
   "outputs": [],
   "source": [
    "# текст запроса\n",
    "\n",
    "#Запрос получился достаточно тяжелым, у меня он выполнился за 20 секунд, возможно что-то можно было сделать проще, но оно работает)\n",
    "test_query = ''' \n",
    "    with x as (SELECT \n",
    "        a.name AS area_name,\n",
    "        COUNT(DISTINCT e.id) AS employer_cnt,\n",
    "        COUNT(v.id) AS vacancy_cnt\n",
    "    FROM areas a\n",
    "    LEFT JOIN employers e ON a.id = e.area\n",
    "    LEFT JOIN vacancies v ON a.id = v.area_id\n",
    "    GROUP BY a.id, a.name)\n",
    "    \n",
    "    select area_name, employer_cnt from x where vacancy_cnt = 0\n",
    "    order by employer_cnt desc\n",
    "'''"
   ]
  },
  {
   "cell_type": "code",
   "execution_count": 182,
   "id": "x1ikWbydrbf6",
   "metadata": {
    "id": "x1ikWbydrbf6"
   },
   "outputs": [
    {
     "name": "stderr",
     "output_type": "stream",
     "text": [
      "/var/folders/vc/zgch74_n23sckf5dm03_fq380000gn/T/ipykernel_1045/3143202613.py:2: UserWarning:\n",
      "\n",
      "pandas only supports SQLAlchemy connectable (engine/connection) or database string URI or sqlite3 DBAPI2 connection. Other DBAPI2 objects are not tested. Please consider using SQLAlchemy.\n",
      "\n"
     ]
    },
    {
     "data": {
      "text/html": [
       "<div>\n",
       "<style scoped>\n",
       "    .dataframe tbody tr th:only-of-type {\n",
       "        vertical-align: middle;\n",
       "    }\n",
       "\n",
       "    .dataframe tbody tr th {\n",
       "        vertical-align: top;\n",
       "    }\n",
       "\n",
       "    .dataframe thead th {\n",
       "        text-align: right;\n",
       "    }\n",
       "</style>\n",
       "<table border=\"1\" class=\"dataframe\">\n",
       "  <thead>\n",
       "    <tr style=\"text-align: right;\">\n",
       "      <th></th>\n",
       "      <th>area_name</th>\n",
       "      <th>employer_cnt</th>\n",
       "    </tr>\n",
       "  </thead>\n",
       "  <tbody>\n",
       "    <tr>\n",
       "      <th>0</th>\n",
       "      <td>Россия</td>\n",
       "      <td>410</td>\n",
       "    </tr>\n",
       "    <tr>\n",
       "      <th>1</th>\n",
       "      <td>Казахстан</td>\n",
       "      <td>207</td>\n",
       "    </tr>\n",
       "    <tr>\n",
       "      <th>2</th>\n",
       "      <td>Московская область</td>\n",
       "      <td>75</td>\n",
       "    </tr>\n",
       "    <tr>\n",
       "      <th>3</th>\n",
       "      <td>Краснодарский край</td>\n",
       "      <td>19</td>\n",
       "    </tr>\n",
       "    <tr>\n",
       "      <th>4</th>\n",
       "      <td>Ростовская область</td>\n",
       "      <td>18</td>\n",
       "    </tr>\n",
       "    <tr>\n",
       "      <th>...</th>\n",
       "      <td>...</td>\n",
       "      <td>...</td>\n",
       "    </tr>\n",
       "    <tr>\n",
       "      <th>588</th>\n",
       "      <td>Скидель</td>\n",
       "      <td>0</td>\n",
       "    </tr>\n",
       "    <tr>\n",
       "      <th>589</th>\n",
       "      <td>Белоозерск</td>\n",
       "      <td>0</td>\n",
       "    </tr>\n",
       "    <tr>\n",
       "      <th>590</th>\n",
       "      <td>Орловский</td>\n",
       "      <td>0</td>\n",
       "    </tr>\n",
       "    <tr>\n",
       "      <th>591</th>\n",
       "      <td>Павловская</td>\n",
       "      <td>0</td>\n",
       "    </tr>\n",
       "    <tr>\n",
       "      <th>592</th>\n",
       "      <td>Таксимо</td>\n",
       "      <td>0</td>\n",
       "    </tr>\n",
       "  </tbody>\n",
       "</table>\n",
       "<p>593 rows × 2 columns</p>\n",
       "</div>"
      ],
      "text/plain": [
       "              area_name  employer_cnt\n",
       "0                Россия           410\n",
       "1             Казахстан           207\n",
       "2    Московская область            75\n",
       "3    Краснодарский край            19\n",
       "4    Ростовская область            18\n",
       "..                  ...           ...\n",
       "588             Скидель             0\n",
       "589          Белоозерск             0\n",
       "590           Орловский             0\n",
       "591          Павловская             0\n",
       "592             Таксимо             0\n",
       "\n",
       "[593 rows x 2 columns]"
      ]
     },
     "execution_count": 182,
     "metadata": {},
     "output_type": "execute_result"
    }
   ],
   "source": [
    "# результат запроса\n",
    "pd.read_sql_query(test_query, connection)"
   ]
  },
  {
   "cell_type": "markdown",
   "id": "f2fe0acb-ab1a-4e15-9326-2560e22d73c1",
   "metadata": {
    "id": "f2fe0acb-ab1a-4e15-9326-2560e22d73c1"
   },
   "source": [
    "3. Для каждого работодателя посчитайте количество регионов, в которых он публикует свои вакансии. Отсортируйте результат по убыванию количества.\n"
   ]
  },
  {
   "cell_type": "code",
   "execution_count": 183,
   "id": "6271f8ad-bd2e-4196-ae4a-5b39c4c1010e",
   "metadata": {
    "id": "6271f8ad-bd2e-4196-ae4a-5b39c4c1010e"
   },
   "outputs": [],
   "source": [
    "# текст запроса\n",
    "query_5_3 = '''\n",
    "select e.name, count(DISTINCT v.area_id)\n",
    "\n",
    "from employers e left join vacancies v on e.id = v.employer_id\n",
    "join areas a on a.id = e.area\n",
    "group by e.name\n",
    "order by 2 desc\n",
    "'''"
   ]
  },
  {
   "cell_type": "code",
   "execution_count": 184,
   "id": "1EIvX3HasH4F",
   "metadata": {
    "id": "1EIvX3HasH4F"
   },
   "outputs": [
    {
     "name": "stderr",
     "output_type": "stream",
     "text": [
      "/var/folders/vc/zgch74_n23sckf5dm03_fq380000gn/T/ipykernel_1045/593965358.py:2: UserWarning:\n",
      "\n",
      "pandas only supports SQLAlchemy connectable (engine/connection) or database string URI or sqlite3 DBAPI2 connection. Other DBAPI2 objects are not tested. Please consider using SQLAlchemy.\n",
      "\n"
     ]
    },
    {
     "data": {
      "text/html": [
       "<div>\n",
       "<style scoped>\n",
       "    .dataframe tbody tr th:only-of-type {\n",
       "        vertical-align: middle;\n",
       "    }\n",
       "\n",
       "    .dataframe tbody tr th {\n",
       "        vertical-align: top;\n",
       "    }\n",
       "\n",
       "    .dataframe thead th {\n",
       "        text-align: right;\n",
       "    }\n",
       "</style>\n",
       "<table border=\"1\" class=\"dataframe\">\n",
       "  <thead>\n",
       "    <tr style=\"text-align: right;\">\n",
       "      <th></th>\n",
       "      <th>name</th>\n",
       "      <th>count</th>\n",
       "    </tr>\n",
       "  </thead>\n",
       "  <tbody>\n",
       "    <tr>\n",
       "      <th>0</th>\n",
       "      <td>Яндекс</td>\n",
       "      <td>181</td>\n",
       "    </tr>\n",
       "    <tr>\n",
       "      <th>1</th>\n",
       "      <td>Ростелеком</td>\n",
       "      <td>152</td>\n",
       "    </tr>\n",
       "    <tr>\n",
       "      <th>2</th>\n",
       "      <td>Спецремонт</td>\n",
       "      <td>116</td>\n",
       "    </tr>\n",
       "    <tr>\n",
       "      <th>3</th>\n",
       "      <td>Поляков Денис Иванович</td>\n",
       "      <td>88</td>\n",
       "    </tr>\n",
       "    <tr>\n",
       "      <th>4</th>\n",
       "      <td>ООО ЕФИН</td>\n",
       "      <td>71</td>\n",
       "    </tr>\n",
       "    <tr>\n",
       "      <th>...</th>\n",
       "      <td>...</td>\n",
       "      <td>...</td>\n",
       "    </tr>\n",
       "    <tr>\n",
       "      <th>23170</th>\n",
       "      <td>СДЕЛКА</td>\n",
       "      <td>0</td>\n",
       "    </tr>\n",
       "    <tr>\n",
       "      <th>23171</th>\n",
       "      <td>Alandr Group</td>\n",
       "      <td>0</td>\n",
       "    </tr>\n",
       "    <tr>\n",
       "      <th>23172</th>\n",
       "      <td>СДК</td>\n",
       "      <td>0</td>\n",
       "    </tr>\n",
       "    <tr>\n",
       "      <th>23173</th>\n",
       "      <td>Lemon Land Lombard</td>\n",
       "      <td>0</td>\n",
       "    </tr>\n",
       "    <tr>\n",
       "      <th>23174</th>\n",
       "      <td>Махина</td>\n",
       "      <td>0</td>\n",
       "    </tr>\n",
       "  </tbody>\n",
       "</table>\n",
       "<p>23175 rows × 2 columns</p>\n",
       "</div>"
      ],
      "text/plain": [
       "                         name  count\n",
       "0                      Яндекс    181\n",
       "1                  Ростелеком    152\n",
       "2                  Спецремонт    116\n",
       "3      Поляков Денис Иванович     88\n",
       "4                   ООО ЕФИН      71\n",
       "...                       ...    ...\n",
       "23170                  СДЕЛКА      0\n",
       "23171            Alandr Group      0\n",
       "23172                     СДК      0\n",
       "23173      Lemon Land Lombard      0\n",
       "23174                  Махина      0\n",
       "\n",
       "[23175 rows x 2 columns]"
      ]
     },
     "execution_count": 184,
     "metadata": {},
     "output_type": "execute_result"
    }
   ],
   "source": [
    "# результат запроса\n",
    "pd.read_sql_query(query_5_3, connection)"
   ]
  },
  {
   "cell_type": "markdown",
   "id": "eab2206d-d95b-468b-8e5f-34381abf0ce7",
   "metadata": {
    "id": "eab2206d-d95b-468b-8e5f-34381abf0ce7"
   },
   "source": [
    "4. Напишите запрос для подсчёта количества работодателей, у которых не указана сфера деятельности. "
   ]
  },
  {
   "cell_type": "code",
   "execution_count": 185,
   "id": "80defb23-bfb1-4a18-8be6-bf36aa7165d5",
   "metadata": {
    "id": "80defb23-bfb1-4a18-8be6-bf36aa7165d5"
   },
   "outputs": [],
   "source": [
    "# текст запроса\n",
    "query_5_4 = '''\n",
    "     SELECT COUNT(e.id) AS employers_without_industry\n",
    "FROM employers e\n",
    "LEFT JOIN employers_industries ei ON e.id = ei.employer_id\n",
    "WHERE ei.industry_id IS NULL;\n",
    "\n",
    "'''"
   ]
  },
  {
   "cell_type": "code",
   "execution_count": 186,
   "id": "Dp_yCx6ysQSu",
   "metadata": {
    "id": "Dp_yCx6ysQSu"
   },
   "outputs": [
    {
     "name": "stderr",
     "output_type": "stream",
     "text": [
      "/var/folders/vc/zgch74_n23sckf5dm03_fq380000gn/T/ipykernel_1045/1644714913.py:2: UserWarning:\n",
      "\n",
      "pandas only supports SQLAlchemy connectable (engine/connection) or database string URI or sqlite3 DBAPI2 connection. Other DBAPI2 objects are not tested. Please consider using SQLAlchemy.\n",
      "\n"
     ]
    },
    {
     "data": {
      "text/html": [
       "<div>\n",
       "<style scoped>\n",
       "    .dataframe tbody tr th:only-of-type {\n",
       "        vertical-align: middle;\n",
       "    }\n",
       "\n",
       "    .dataframe tbody tr th {\n",
       "        vertical-align: top;\n",
       "    }\n",
       "\n",
       "    .dataframe thead th {\n",
       "        text-align: right;\n",
       "    }\n",
       "</style>\n",
       "<table border=\"1\" class=\"dataframe\">\n",
       "  <thead>\n",
       "    <tr style=\"text-align: right;\">\n",
       "      <th></th>\n",
       "      <th>employers_without_industry</th>\n",
       "    </tr>\n",
       "  </thead>\n",
       "  <tbody>\n",
       "    <tr>\n",
       "      <th>0</th>\n",
       "      <td>8419</td>\n",
       "    </tr>\n",
       "  </tbody>\n",
       "</table>\n",
       "</div>"
      ],
      "text/plain": [
       "   employers_without_industry\n",
       "0                        8419"
      ]
     },
     "execution_count": 186,
     "metadata": {},
     "output_type": "execute_result"
    }
   ],
   "source": [
    "# результат запроса\n",
    "pd.read_sql_query(query_5_4, connection)"
   ]
  },
  {
   "cell_type": "markdown",
   "id": "0112af31-f6b0-4e3b-82ab-71296e752e5e",
   "metadata": {
    "id": "0112af31-f6b0-4e3b-82ab-71296e752e5e"
   },
   "source": [
    "5. Напишите запрос, чтобы узнать название компании, находящейся на третьем месте в алфавитном списке (по названию) компаний, у которых указано четыре сферы деятельности. "
   ]
  },
  {
   "cell_type": "code",
   "execution_count": 187,
   "id": "973b0cfc-a972-470a-8b4a-68744ef220c4",
   "metadata": {
    "id": "973b0cfc-a972-470a-8b4a-68744ef220c4"
   },
   "outputs": [],
   "source": [
    "# текст запроса\n",
    "query_5_5 = '''\n",
    "SELECT e.name, count(*)\n",
    "FROM employers e\n",
    "LEFT JOIN employers_industries ei ON e.id = ei.employer_id\n",
    "LEFT JOIN industries i on i.id = ei.industry_id\n",
    "group by e.name\n",
    "having count(*) = 4\n",
    "order by 1 asc\n",
    "offset 2 limit 1\n",
    "'''"
   ]
  },
  {
   "cell_type": "code",
   "execution_count": 188,
   "id": "xsPtpp8EsaED",
   "metadata": {
    "id": "xsPtpp8EsaED"
   },
   "outputs": [
    {
     "name": "stderr",
     "output_type": "stream",
     "text": [
      "/var/folders/vc/zgch74_n23sckf5dm03_fq380000gn/T/ipykernel_1045/1169902027.py:2: UserWarning:\n",
      "\n",
      "pandas only supports SQLAlchemy connectable (engine/connection) or database string URI or sqlite3 DBAPI2 connection. Other DBAPI2 objects are not tested. Please consider using SQLAlchemy.\n",
      "\n"
     ]
    },
    {
     "data": {
      "text/html": [
       "<div>\n",
       "<style scoped>\n",
       "    .dataframe tbody tr th:only-of-type {\n",
       "        vertical-align: middle;\n",
       "    }\n",
       "\n",
       "    .dataframe tbody tr th {\n",
       "        vertical-align: top;\n",
       "    }\n",
       "\n",
       "    .dataframe thead th {\n",
       "        text-align: right;\n",
       "    }\n",
       "</style>\n",
       "<table border=\"1\" class=\"dataframe\">\n",
       "  <thead>\n",
       "    <tr style=\"text-align: right;\">\n",
       "      <th></th>\n",
       "      <th>name</th>\n",
       "      <th>count</th>\n",
       "    </tr>\n",
       "  </thead>\n",
       "  <tbody>\n",
       "    <tr>\n",
       "      <th>0</th>\n",
       "      <td>2ГИС</td>\n",
       "      <td>4</td>\n",
       "    </tr>\n",
       "  </tbody>\n",
       "</table>\n",
       "</div>"
      ],
      "text/plain": [
       "   name  count\n",
       "0  2ГИС      4"
      ]
     },
     "execution_count": 188,
     "metadata": {},
     "output_type": "execute_result"
    }
   ],
   "source": [
    "# результат запроса\n",
    "pd.read_sql_query(query_5_5, connection)"
   ]
  },
  {
   "cell_type": "markdown",
   "id": "3bfcfdaf-755d-4d2b-8ed8-326201dc07ab",
   "metadata": {
    "id": "3bfcfdaf-755d-4d2b-8ed8-326201dc07ab"
   },
   "source": [
    "6. С помощью запроса выясните, у какого количества работодателей в качестве сферы деятельности указана Разработка программного обеспечения.\n"
   ]
  },
  {
   "cell_type": "code",
   "execution_count": 189,
   "id": "ad3f270f-2991-47eb-929b-e8f88a55b0d1",
   "metadata": {
    "id": "ad3f270f-2991-47eb-929b-e8f88a55b0d1"
   },
   "outputs": [],
   "source": [
    "# текст запроса\n",
    "query_5_6 = '''\n",
    "select count(*)\n",
    "from employers e left join employers_industries ei on ei.employer_id = e.id\n",
    "left join industries i on i.id = ei.industry_id \n",
    "where i.name = 'Разработка программного обеспечения'\n",
    "\n",
    "\n",
    "'''"
   ]
  },
  {
   "cell_type": "code",
   "execution_count": 190,
   "id": "H72qxWM0shPR",
   "metadata": {
    "id": "H72qxWM0shPR"
   },
   "outputs": [
    {
     "name": "stderr",
     "output_type": "stream",
     "text": [
      "/var/folders/vc/zgch74_n23sckf5dm03_fq380000gn/T/ipykernel_1045/2878008418.py:2: UserWarning:\n",
      "\n",
      "pandas only supports SQLAlchemy connectable (engine/connection) or database string URI or sqlite3 DBAPI2 connection. Other DBAPI2 objects are not tested. Please consider using SQLAlchemy.\n",
      "\n"
     ]
    },
    {
     "data": {
      "text/html": [
       "<div>\n",
       "<style scoped>\n",
       "    .dataframe tbody tr th:only-of-type {\n",
       "        vertical-align: middle;\n",
       "    }\n",
       "\n",
       "    .dataframe tbody tr th {\n",
       "        vertical-align: top;\n",
       "    }\n",
       "\n",
       "    .dataframe thead th {\n",
       "        text-align: right;\n",
       "    }\n",
       "</style>\n",
       "<table border=\"1\" class=\"dataframe\">\n",
       "  <thead>\n",
       "    <tr style=\"text-align: right;\">\n",
       "      <th></th>\n",
       "      <th>count</th>\n",
       "    </tr>\n",
       "  </thead>\n",
       "  <tbody>\n",
       "    <tr>\n",
       "      <th>0</th>\n",
       "      <td>3553</td>\n",
       "    </tr>\n",
       "  </tbody>\n",
       "</table>\n",
       "</div>"
      ],
      "text/plain": [
       "   count\n",
       "0   3553"
      ]
     },
     "execution_count": 190,
     "metadata": {},
     "output_type": "execute_result"
    }
   ],
   "source": [
    "# результат запроса\n",
    "pd.read_sql_query(query_5_6, connection)"
   ]
  },
  {
   "cell_type": "markdown",
   "id": "7b02bb86-0546-40fb-94a4-242f050a5c57",
   "metadata": {
    "id": "7b02bb86-0546-40fb-94a4-242f050a5c57"
   },
   "source": [
    "7. Для компании «Яндекс» выведите список регионов-миллионников, в которых представлены вакансии компании, вместе с количеством вакансий в этих регионах. Также добавьте строку Total с общим количеством вакансий компании. Результат отсортируйте по возрастанию количества.\n",
    "\n",
    "Список городов-милионников надо взять [отсюда](https://ru.wikipedia.org/wiki/%D0%93%D0%BE%D1%80%D0%BE%D0%B4%D0%B0-%D0%BC%D0%B8%D0%BB%D0%BB%D0%B8%D0%BE%D0%BD%D0%B5%D1%80%D1%8B_%D0%A0%D0%BE%D1%81%D1%81%D0%B8%D0%B8). \n",
    "\n",
    "Если возникнут трудности с этим задание посмотрите материалы модуля  PYTHON-17. Как получать данные из веб-источников и API. "
   ]
  },
  {
   "cell_type": "code",
   "execution_count": 191,
   "id": "ZdfrL6gIs1Pn",
   "metadata": {
    "id": "ZdfrL6gIs1Pn"
   },
   "outputs": [],
   "source": [
    "# код для получения списка городов-милионников\n",
    "import requests \n",
    "from bs4 import BeautifulSoup\n",
    "\n",
    "url = 'https://ru.wikipedia.org/wiki/%D0%93%D0%BE%D1%80%D0%BE%D0%B4%D0%B0-%D0%BC%D0%B8%D0%BB%D0%BB%D0%B8%D0%BE%D0%BD%D0%B5%D1%80%D1%8B_%D0%A0%D0%BE%D1%81%D1%81%D0%B8%D0%B8'\n",
    "response = requests.get(url)\n",
    "page = BeautifulSoup(response.text, 'html.parser')\n",
    "tables = page.find_all(\"table\")[0]\n",
    "\n",
    "data = []\n",
    "for row in tables.find_all(\"tr\")[1:]:\n",
    "    cells = row.find_all(\"td\")\n",
    "    if cells:\n",
    "        data.append([cell.text.strip() for cell in cells])\n",
    "data = [x[1] for x in data]"
   ]
  },
  {
   "cell_type": "code",
   "execution_count": 192,
   "id": "5a0e32a4-e68a-4365-8a39-2fe24c542c36",
   "metadata": {
    "id": "5a0e32a4-e68a-4365-8a39-2fe24c542c36"
   },
   "outputs": [],
   "source": [
    "# текст запроса\n",
    "\n",
    "query_5_7 = f'''\n",
    "WITH x AS (\n",
    "    SELECT a.name AS name, COUNT(v.id) AS cnt\n",
    "    FROM vacancies v  \n",
    "    JOIN employers e ON v.employer_id = e.id\n",
    "    JOIN areas a ON a.id = v.area_id\n",
    "    WHERE e.name = 'Яндекс' AND a.name IN ({\", \".join(map(repr, data))})\n",
    "    GROUP BY a.name\n",
    ")\n",
    "SELECT name, cnt FROM x\n",
    "UNION ALL\n",
    "SELECT 'Total', SUM(cnt) FROM x\n",
    "ORDER BY cnt;\n",
    "'''"
   ]
  },
  {
   "cell_type": "code",
   "execution_count": 193,
   "id": "ttPhiO1rsvPq",
   "metadata": {
    "id": "ttPhiO1rsvPq"
   },
   "outputs": [
    {
     "name": "stderr",
     "output_type": "stream",
     "text": [
      "/var/folders/vc/zgch74_n23sckf5dm03_fq380000gn/T/ipykernel_1045/1216511710.py:2: UserWarning:\n",
      "\n",
      "pandas only supports SQLAlchemy connectable (engine/connection) or database string URI or sqlite3 DBAPI2 connection. Other DBAPI2 objects are not tested. Please consider using SQLAlchemy.\n",
      "\n"
     ]
    },
    {
     "data": {
      "text/html": [
       "<div>\n",
       "<style scoped>\n",
       "    .dataframe tbody tr th:only-of-type {\n",
       "        vertical-align: middle;\n",
       "    }\n",
       "\n",
       "    .dataframe tbody tr th {\n",
       "        vertical-align: top;\n",
       "    }\n",
       "\n",
       "    .dataframe thead th {\n",
       "        text-align: right;\n",
       "    }\n",
       "</style>\n",
       "<table border=\"1\" class=\"dataframe\">\n",
       "  <thead>\n",
       "    <tr style=\"text-align: right;\">\n",
       "      <th></th>\n",
       "      <th>name</th>\n",
       "      <th>cnt</th>\n",
       "    </tr>\n",
       "  </thead>\n",
       "  <tbody>\n",
       "    <tr>\n",
       "      <th>0</th>\n",
       "      <td>Омск</td>\n",
       "      <td>21.0</td>\n",
       "    </tr>\n",
       "    <tr>\n",
       "      <th>1</th>\n",
       "      <td>Челябинск</td>\n",
       "      <td>22.0</td>\n",
       "    </tr>\n",
       "    <tr>\n",
       "      <th>2</th>\n",
       "      <td>Красноярск</td>\n",
       "      <td>23.0</td>\n",
       "    </tr>\n",
       "    <tr>\n",
       "      <th>3</th>\n",
       "      <td>Волгоград</td>\n",
       "      <td>24.0</td>\n",
       "    </tr>\n",
       "    <tr>\n",
       "      <th>4</th>\n",
       "      <td>Пермь</td>\n",
       "      <td>25.0</td>\n",
       "    </tr>\n",
       "    <tr>\n",
       "      <th>5</th>\n",
       "      <td>Казань</td>\n",
       "      <td>25.0</td>\n",
       "    </tr>\n",
       "    <tr>\n",
       "      <th>6</th>\n",
       "      <td>Ростов-на-Дону</td>\n",
       "      <td>25.0</td>\n",
       "    </tr>\n",
       "    <tr>\n",
       "      <th>7</th>\n",
       "      <td>Самара</td>\n",
       "      <td>26.0</td>\n",
       "    </tr>\n",
       "    <tr>\n",
       "      <th>8</th>\n",
       "      <td>Уфа</td>\n",
       "      <td>26.0</td>\n",
       "    </tr>\n",
       "    <tr>\n",
       "      <th>9</th>\n",
       "      <td>Краснодар</td>\n",
       "      <td>30.0</td>\n",
       "    </tr>\n",
       "    <tr>\n",
       "      <th>10</th>\n",
       "      <td>Воронеж</td>\n",
       "      <td>32.0</td>\n",
       "    </tr>\n",
       "    <tr>\n",
       "      <th>11</th>\n",
       "      <td>Новосибирск</td>\n",
       "      <td>35.0</td>\n",
       "    </tr>\n",
       "    <tr>\n",
       "      <th>12</th>\n",
       "      <td>Нижний Новгород</td>\n",
       "      <td>36.0</td>\n",
       "    </tr>\n",
       "    <tr>\n",
       "      <th>13</th>\n",
       "      <td>Екатеринбург</td>\n",
       "      <td>39.0</td>\n",
       "    </tr>\n",
       "    <tr>\n",
       "      <th>14</th>\n",
       "      <td>Санкт-Петербург</td>\n",
       "      <td>42.0</td>\n",
       "    </tr>\n",
       "    <tr>\n",
       "      <th>15</th>\n",
       "      <td>Москва</td>\n",
       "      <td>54.0</td>\n",
       "    </tr>\n",
       "    <tr>\n",
       "      <th>16</th>\n",
       "      <td>Total</td>\n",
       "      <td>485.0</td>\n",
       "    </tr>\n",
       "  </tbody>\n",
       "</table>\n",
       "</div>"
      ],
      "text/plain": [
       "               name    cnt\n",
       "0              Омск   21.0\n",
       "1         Челябинск   22.0\n",
       "2        Красноярск   23.0\n",
       "3         Волгоград   24.0\n",
       "4             Пермь   25.0\n",
       "5            Казань   25.0\n",
       "6    Ростов-на-Дону   25.0\n",
       "7            Самара   26.0\n",
       "8               Уфа   26.0\n",
       "9         Краснодар   30.0\n",
       "10          Воронеж   32.0\n",
       "11      Новосибирск   35.0\n",
       "12  Нижний Новгород   36.0\n",
       "13     Екатеринбург   39.0\n",
       "14  Санкт-Петербург   42.0\n",
       "15           Москва   54.0\n",
       "16            Total  485.0"
      ]
     },
     "execution_count": 193,
     "metadata": {},
     "output_type": "execute_result"
    }
   ],
   "source": [
    "# результат запроса\n",
    "pd.read_sql_query(query_5_7, connection)"
   ]
  },
  {
   "cell_type": "markdown",
   "id": "04966e40-3bc3-4dc8-9ba2-e80580ce3abc",
   "metadata": {
    "id": "04966e40-3bc3-4dc8-9ba2-e80580ce3abc"
   },
   "source": [
    "***"
   ]
  },
  {
   "cell_type": "markdown",
   "id": "aGGyER-yt4SR",
   "metadata": {
    "id": "aGGyER-yt4SR"
   },
   "source": [
    "# выводы по анализу работодателей\n",
    "\n",
    "Как и предпологалось ранее, самой популярной компании с наибольшим количеством вакансий оказался - Яндекс.\n",
    "При этом Яндекс вдобавок предлагает свои вакансии в 181 регионе. \n",
    "\n",
    "И среди городов милионников наиболее популярной по килечеству вакансий оказалась Москва.\n",
    "\n"
   ]
  },
  {
   "cell_type": "markdown",
   "id": "b1ef156a-efcb-49ce-bb23-90763e7f35b2",
   "metadata": {
    "id": "b1ef156a-efcb-49ce-bb23-90763e7f35b2",
    "tags": []
   },
   "source": [
    "# Юнит 6. Предметный анализ"
   ]
  },
  {
   "cell_type": "markdown",
   "id": "b9cd50a0-992d-4988-8463-2b2b1c4629b4",
   "metadata": {
    "id": "b9cd50a0-992d-4988-8463-2b2b1c4629b4"
   },
   "source": [
    "1. Сколько вакансий имеет отношение к данным?\n",
    "\n",
    "Считаем, что вакансия имеет отношение к данным, если в её названии содержатся слова 'data' или 'данн'.\n",
    "\n",
    "*Подсказка: Обратите внимание, что названия вакансий могут быть написаны в любом регистре.* \n"
   ]
  },
  {
   "cell_type": "code",
   "execution_count": 194,
   "id": "54ab0e50-c0f1-47cc-a54b-bc5c8bc363f9",
   "metadata": {
    "id": "54ab0e50-c0f1-47cc-a54b-bc5c8bc363f9"
   },
   "outputs": [],
   "source": [
    "# текст запроса\n",
    "query_6_1 = '''\n",
    "select name from vacancies v where lower(name) like '%data%' or lower(name) like '%данн%'\n",
    "'''\n"
   ]
  },
  {
   "cell_type": "code",
   "execution_count": 195,
   "id": "9F1meAqsuUjd",
   "metadata": {
    "id": "9F1meAqsuUjd"
   },
   "outputs": [
    {
     "name": "stderr",
     "output_type": "stream",
     "text": [
      "/var/folders/vc/zgch74_n23sckf5dm03_fq380000gn/T/ipykernel_1045/2603769340.py:2: UserWarning:\n",
      "\n",
      "pandas only supports SQLAlchemy connectable (engine/connection) or database string URI or sqlite3 DBAPI2 connection. Other DBAPI2 objects are not tested. Please consider using SQLAlchemy.\n",
      "\n"
     ]
    },
    {
     "data": {
      "text/html": [
       "<div>\n",
       "<style scoped>\n",
       "    .dataframe tbody tr th:only-of-type {\n",
       "        vertical-align: middle;\n",
       "    }\n",
       "\n",
       "    .dataframe tbody tr th {\n",
       "        vertical-align: top;\n",
       "    }\n",
       "\n",
       "    .dataframe thead th {\n",
       "        text-align: right;\n",
       "    }\n",
       "</style>\n",
       "<table border=\"1\" class=\"dataframe\">\n",
       "  <thead>\n",
       "    <tr style=\"text-align: right;\">\n",
       "      <th></th>\n",
       "      <th>name</th>\n",
       "    </tr>\n",
       "  </thead>\n",
       "  <tbody>\n",
       "    <tr>\n",
       "      <th>0</th>\n",
       "      <td>Аналитик хранилищ данных и BI-систем/Аналитик ...</td>\n",
       "    </tr>\n",
       "    <tr>\n",
       "      <th>1</th>\n",
       "      <td>Data-analysts (удаленно)</td>\n",
       "    </tr>\n",
       "    <tr>\n",
       "      <th>2</th>\n",
       "      <td>Стажер Data Engineer/Data Аналитик в команду Б...</td>\n",
       "    </tr>\n",
       "    <tr>\n",
       "      <th>3</th>\n",
       "      <td>Старший специалист хранилищ данных</td>\n",
       "    </tr>\n",
       "    <tr>\n",
       "      <th>4</th>\n",
       "      <td>Администратор баз данных и сетей</td>\n",
       "    </tr>\n",
       "    <tr>\n",
       "      <th>...</th>\n",
       "      <td>...</td>\n",
       "    </tr>\n",
       "    <tr>\n",
       "      <th>1766</th>\n",
       "      <td>Программист Delphi / разработчик баз данных</td>\n",
       "    </tr>\n",
       "    <tr>\n",
       "      <th>1767</th>\n",
       "      <td>Разработчик баз данных (Big Data)</td>\n",
       "    </tr>\n",
       "    <tr>\n",
       "      <th>1768</th>\n",
       "      <td>Аналитик данных</td>\n",
       "    </tr>\n",
       "    <tr>\n",
       "      <th>1769</th>\n",
       "      <td>Data аналитик /Аналитик BI (удаленно)</td>\n",
       "    </tr>\n",
       "    <tr>\n",
       "      <th>1770</th>\n",
       "      <td>DataOps Engineer</td>\n",
       "    </tr>\n",
       "  </tbody>\n",
       "</table>\n",
       "<p>1771 rows × 1 columns</p>\n",
       "</div>"
      ],
      "text/plain": [
       "                                                   name\n",
       "0     Аналитик хранилищ данных и BI-систем/Аналитик ...\n",
       "1                              Data-analysts (удаленно)\n",
       "2     Стажер Data Engineer/Data Аналитик в команду Б...\n",
       "3                    Старший специалист хранилищ данных\n",
       "4                      Администратор баз данных и сетей\n",
       "...                                                 ...\n",
       "1766        Программист Delphi / разработчик баз данных\n",
       "1767                  Разработчик баз данных (Big Data)\n",
       "1768                                    Аналитик данных\n",
       "1769              Data аналитик /Аналитик BI (удаленно)\n",
       "1770                                   DataOps Engineer\n",
       "\n",
       "[1771 rows x 1 columns]"
      ]
     },
     "execution_count": 195,
     "metadata": {},
     "output_type": "execute_result"
    }
   ],
   "source": [
    "# результат запроса\n",
    "pd.read_sql_query(query_6_1, connection)"
   ]
  },
  {
   "cell_type": "markdown",
   "id": "4dea20cb-a36b-474a-a0b9-e08e8e3857a5",
   "metadata": {
    "id": "4dea20cb-a36b-474a-a0b9-e08e8e3857a5"
   },
   "source": [
    "2. Сколько есть подходящих вакансий для начинающего дата-сайентиста? \n",
    "Будем считать вакансиями для дата-сайентистов такие, в названии которых есть хотя бы одно из следующих сочетаний:\n",
    "* 'data scientist'\n",
    "* 'data science'\n",
    "* 'исследователь данных'\n",
    "* 'ML' (здесь не нужно брать вакансии по HTML)\n",
    "* 'machine learning'\n",
    "* 'машинн%обучен%'\n",
    "\n",
    "** В следующих заданиях мы продолжим работать с вакансиями по этому условию.*\n",
    "\n",
    "Считаем вакансиями для специалистов уровня Junior следующие:\n",
    "* в названии есть слово 'junior' *или*\n",
    "* требуемый опыт — Нет опыта *или*\n",
    "* тип трудоустройства — Стажировка.\n",
    " "
   ]
  },
  {
   "cell_type": "code",
   "execution_count": 196,
   "id": "9c61b3c0-bb66-46c9-ae1e-81d3f5752b4a",
   "metadata": {
    "id": "9c61b3c0-bb66-46c9-ae1e-81d3f5752b4a"
   },
   "outputs": [],
   "source": [
    "# текст запроса\n",
    "query_6_2 = '''\n",
    "\n",
    "select count(*) from vacancies v where (lower(name) \n",
    "like '%data scientist%' \n",
    "or lower(name) like '%data science%'\n",
    "or lower(name) like '%исследователь данных%' \n",
    "or (lower(name) like '%ml%' and lower(name) not like '%html%')\n",
    "or lower(name) like '%machine learning%'\n",
    "or lower(name) like '%машинн%обучен%' ) \n",
    "\n",
    "and \n",
    "\n",
    "(lower(name) like '%junior%' or experience = 'Нет опыта' or employment = 'Стажировка')\n",
    "'''"
   ]
  },
  {
   "cell_type": "markdown",
   "id": "eedceb80-c5ca-480e-b27a-278dfb8b4438",
   "metadata": {
    "id": "eedceb80-c5ca-480e-b27a-278dfb8b4438"
   },
   "source": [
    "3. Сколько есть вакансий для DS, в которых в качестве ключевого навыка указан SQL или postgres?\n",
    "\n",
    "** Критерии для отнесения вакансии к DS указаны в предыдущем задании.*"
   ]
  },
  {
   "cell_type": "code",
   "execution_count": 197,
   "id": "69621713-0cc5-4f1b-a1d7-bb144fa6148c",
   "metadata": {
    "id": "69621713-0cc5-4f1b-a1d7-bb144fa6148c"
   },
   "outputs": [],
   "source": [
    "# текст запроса\n",
    "query_6_3 = '''\n",
    "select count(*) from vacancies v where (lower(name) \n",
    "like '%data scientist%' \n",
    "or lower(name) like '%data science%'\n",
    "or lower(name) = '%исследователь данных%' \n",
    "or (lower(name) like '%ml%' and lower(name) not like '%html%')\n",
    "or lower(name) like '%machine learning%'\n",
    "or lower(name) like '%машинн%обучен%' ) \n",
    "\n",
    "and \n",
    "(lower(key_skills) like '%sql%' or lower(key_skills) like '%postqres%')\n",
    "\n",
    "\n",
    "'''"
   ]
  },
  {
   "cell_type": "code",
   "execution_count": 198,
   "id": "alA8WEAAvGdf",
   "metadata": {
    "id": "alA8WEAAvGdf"
   },
   "outputs": [
    {
     "name": "stderr",
     "output_type": "stream",
     "text": [
      "/var/folders/vc/zgch74_n23sckf5dm03_fq380000gn/T/ipykernel_1045/3902879435.py:2: UserWarning:\n",
      "\n",
      "pandas only supports SQLAlchemy connectable (engine/connection) or database string URI or sqlite3 DBAPI2 connection. Other DBAPI2 objects are not tested. Please consider using SQLAlchemy.\n",
      "\n"
     ]
    },
    {
     "data": {
      "text/html": [
       "<div>\n",
       "<style scoped>\n",
       "    .dataframe tbody tr th:only-of-type {\n",
       "        vertical-align: middle;\n",
       "    }\n",
       "\n",
       "    .dataframe tbody tr th {\n",
       "        vertical-align: top;\n",
       "    }\n",
       "\n",
       "    .dataframe thead th {\n",
       "        text-align: right;\n",
       "    }\n",
       "</style>\n",
       "<table border=\"1\" class=\"dataframe\">\n",
       "  <thead>\n",
       "    <tr style=\"text-align: right;\">\n",
       "      <th></th>\n",
       "      <th>count</th>\n",
       "    </tr>\n",
       "  </thead>\n",
       "  <tbody>\n",
       "    <tr>\n",
       "      <th>0</th>\n",
       "      <td>229</td>\n",
       "    </tr>\n",
       "  </tbody>\n",
       "</table>\n",
       "</div>"
      ],
      "text/plain": [
       "   count\n",
       "0    229"
      ]
     },
     "execution_count": 198,
     "metadata": {},
     "output_type": "execute_result"
    }
   ],
   "source": [
    "# результат запроса\n",
    "pd.read_sql_query(query_6_3, connection)"
   ]
  },
  {
   "cell_type": "markdown",
   "id": "1be1e9c6-37cf-4a5f-bfeb-04cab799dc80",
   "metadata": {
    "id": "1be1e9c6-37cf-4a5f-bfeb-04cab799dc80"
   },
   "source": [
    "4. Проверьте, насколько популярен Python в требованиях работодателей к DS.Для этого вычислите количество вакансий, в которых в качестве ключевого навыка указан Python.\n",
    "\n",
    "** Это можно сделать помощью запроса, аналогичного предыдущему.*"
   ]
  },
  {
   "cell_type": "code",
   "execution_count": 199,
   "id": "0036a355-9ccf-4564-8b01-73d8194297e7",
   "metadata": {
    "id": "0036a355-9ccf-4564-8b01-73d8194297e7"
   },
   "outputs": [],
   "source": [
    "# текст запроса\n",
    "query_6_4 = '''\n",
    "\n",
    "select count(*) from vacancies v where (lower(name) \n",
    "like '%data scientist%' \n",
    "or lower(name) like '%data science%'\n",
    "or lower(name) = '%исследователь данных%' \n",
    "or (lower(name) like '%ml%' and lower(name) not like '%html%')\n",
    "or lower(name) like '%machine learning%'\n",
    "or lower(name) like '%машинн%обучен%' ) \n",
    "\n",
    "and \n",
    "(lower(key_skills) like '%python%')\n",
    "\n",
    "\n",
    "'''"
   ]
  },
  {
   "cell_type": "code",
   "execution_count": 200,
   "id": "1i-5WyucvQ6v",
   "metadata": {
    "id": "1i-5WyucvQ6v"
   },
   "outputs": [
    {
     "name": "stderr",
     "output_type": "stream",
     "text": [
      "/var/folders/vc/zgch74_n23sckf5dm03_fq380000gn/T/ipykernel_1045/2548700122.py:2: UserWarning:\n",
      "\n",
      "pandas only supports SQLAlchemy connectable (engine/connection) or database string URI or sqlite3 DBAPI2 connection. Other DBAPI2 objects are not tested. Please consider using SQLAlchemy.\n",
      "\n"
     ]
    },
    {
     "data": {
      "text/html": [
       "<div>\n",
       "<style scoped>\n",
       "    .dataframe tbody tr th:only-of-type {\n",
       "        vertical-align: middle;\n",
       "    }\n",
       "\n",
       "    .dataframe tbody tr th {\n",
       "        vertical-align: top;\n",
       "    }\n",
       "\n",
       "    .dataframe thead th {\n",
       "        text-align: right;\n",
       "    }\n",
       "</style>\n",
       "<table border=\"1\" class=\"dataframe\">\n",
       "  <thead>\n",
       "    <tr style=\"text-align: right;\">\n",
       "      <th></th>\n",
       "      <th>count</th>\n",
       "    </tr>\n",
       "  </thead>\n",
       "  <tbody>\n",
       "    <tr>\n",
       "      <th>0</th>\n",
       "      <td>357</td>\n",
       "    </tr>\n",
       "  </tbody>\n",
       "</table>\n",
       "</div>"
      ],
      "text/plain": [
       "   count\n",
       "0    357"
      ]
     },
     "execution_count": 200,
     "metadata": {},
     "output_type": "execute_result"
    }
   ],
   "source": [
    "# результат запроса\n",
    "pd.read_sql_query(query_6_4, connection)"
   ]
  },
  {
   "cell_type": "markdown",
   "id": "ec3c8db7-fa21-4a41-a994-1af63742a642",
   "metadata": {
    "id": "ec3c8db7-fa21-4a41-a994-1af63742a642"
   },
   "source": [
    "5. Сколько ключевых навыков в среднем указывают в вакансиях для DS?\n",
    "Ответ округлите до двух знаков после точки-разделителя."
   ]
  },
  {
   "cell_type": "code",
   "execution_count": 201,
   "id": "949132bc-d5b6-4611-8218-0b9a504d74f4",
   "metadata": {
    "id": "949132bc-d5b6-4611-8218-0b9a504d74f4"
   },
   "outputs": [],
   "source": [
    "# текст запроса\n",
    "query_6_5 = '''\n",
    "select round(avg(1 + length(key_skills) - length(replace(key_skills, CHR(9), ''))),2) as test \n",
    "from vacancies v \n",
    "where(v.name ILIKE '%data scientist%' OR \n",
    "v.name ILIKE '%data science%' OR\n",
    "v.name ILIKE '%исследователь данных%' OR\n",
    "(v.name LIKE '%ML%' AND v.name NOT ILIKE '%HTML%') OR\n",
    "v.name ILIKE '%machine learning%' OR\n",
    "v.name ILIKE '%машинн%обучен%%') \n",
    "\n",
    "\n",
    "'''"
   ]
  },
  {
   "cell_type": "code",
   "execution_count": 202,
   "id": "a3V24Tvmviqk",
   "metadata": {
    "id": "a3V24Tvmviqk"
   },
   "outputs": [
    {
     "name": "stderr",
     "output_type": "stream",
     "text": [
      "/var/folders/vc/zgch74_n23sckf5dm03_fq380000gn/T/ipykernel_1045/972981902.py:2: UserWarning:\n",
      "\n",
      "pandas only supports SQLAlchemy connectable (engine/connection) or database string URI or sqlite3 DBAPI2 connection. Other DBAPI2 objects are not tested. Please consider using SQLAlchemy.\n",
      "\n"
     ]
    },
    {
     "data": {
      "text/html": [
       "<div>\n",
       "<style scoped>\n",
       "    .dataframe tbody tr th:only-of-type {\n",
       "        vertical-align: middle;\n",
       "    }\n",
       "\n",
       "    .dataframe tbody tr th {\n",
       "        vertical-align: top;\n",
       "    }\n",
       "\n",
       "    .dataframe thead th {\n",
       "        text-align: right;\n",
       "    }\n",
       "</style>\n",
       "<table border=\"1\" class=\"dataframe\">\n",
       "  <thead>\n",
       "    <tr style=\"text-align: right;\">\n",
       "      <th></th>\n",
       "      <th>test</th>\n",
       "    </tr>\n",
       "  </thead>\n",
       "  <tbody>\n",
       "    <tr>\n",
       "      <th>0</th>\n",
       "      <td>6.41</td>\n",
       "    </tr>\n",
       "  </tbody>\n",
       "</table>\n",
       "</div>"
      ],
      "text/plain": [
       "   test\n",
       "0  6.41"
      ]
     },
     "execution_count": 202,
     "metadata": {},
     "output_type": "execute_result"
    }
   ],
   "source": [
    "# результат запроса\n",
    "pd.read_sql_query(query_6_5, connection)\n"
   ]
  },
  {
   "cell_type": "markdown",
   "id": "1041c17a-ca8f-4543-a0ca-32778914fb00",
   "metadata": {
    "id": "1041c17a-ca8f-4543-a0ca-32778914fb00"
   },
   "source": [
    "6. Напишите запрос, позволяющий вычислить, какую зарплату для DS в **среднем** указывают для каждого типа требуемого опыта (уникальное значение из поля *experience*). \n",
    "\n",
    "При решении задачи примите во внимание следующее:\n",
    "1. Рассматриваем только вакансии, у которых заполнено хотя бы одно из двух полей с зарплатой.\n",
    "2. Если заполнены оба поля с зарплатой, то считаем зарплату по каждой вакансии как сумму двух полей, делённую на 2. Если заполнено только одно из полей, то его и считаем зарплатой по вакансии.\n",
    "3. Если в расчётах участвует null, в результате он тоже даст null (посмотрите, что возвращает запрос select 1 + null). Чтобы избежать этой ситуацию, мы воспользуемся функцией [coalesce](https://postgrespro.ru/docs/postgresql/9.5/functions-conditional#functions-coalesce-nvl-ifnull), которая заменит null на значение, которое мы передадим. Например, посмотрите, что возвращает запрос `select 1 + coalesce(null, 0)`\n",
    "\n",
    "Выясните, на какую зарплату в среднем может рассчитывать дата-сайентист с опытом работы от 3 до 6 лет. Результат округлите до целого числа. "
   ]
  },
  {
   "cell_type": "code",
   "execution_count": 203,
   "id": "6a743d39-5204-48d3-8271-b9f88e68d40e",
   "metadata": {
    "id": "6a743d39-5204-48d3-8271-b9f88e68d40e"
   },
   "outputs": [],
   "source": [
    "# текст запроса\n",
    "query_6_6 = '''\n",
    "select v.experience, ROUND(AVG(coalesce((v.salary_from + v.salary_to) / 2, v.salary_from, v.salary_to)), 0)\n",
    "from vacancies v\n",
    "WHERE\n",
    "(\n",
    "       (v.name ILIKE '%data scientist%')\n",
    "    OR (v.name ILIKE '%data science%')\n",
    "    OR (v.name ILIKE '%исследователь данных%')\n",
    "    OR (v.name  LIKE '%ML%' AND  (v.name NOT iLIKE '%html%'))\n",
    "    OR (v.name ILIKE '%machine learning%')\n",
    "    OR (v.name ILIKE '%машинн%обучен%')\n",
    "    AND (key_skills IS NOT NULL)\n",
    ")\n",
    "GROUP BY v.experience\n",
    "ORDER BY 1\n",
    "'''"
   ]
  },
  {
   "cell_type": "code",
   "execution_count": 204,
   "id": "aRIJ0mZEwU1_",
   "metadata": {
    "id": "aRIJ0mZEwU1_"
   },
   "outputs": [
    {
     "name": "stderr",
     "output_type": "stream",
     "text": [
      "/var/folders/vc/zgch74_n23sckf5dm03_fq380000gn/T/ipykernel_1045/1796641676.py:2: UserWarning:\n",
      "\n",
      "pandas only supports SQLAlchemy connectable (engine/connection) or database string URI or sqlite3 DBAPI2 connection. Other DBAPI2 objects are not tested. Please consider using SQLAlchemy.\n",
      "\n"
     ]
    },
    {
     "data": {
      "text/html": [
       "<div>\n",
       "<style scoped>\n",
       "    .dataframe tbody tr th:only-of-type {\n",
       "        vertical-align: middle;\n",
       "    }\n",
       "\n",
       "    .dataframe tbody tr th {\n",
       "        vertical-align: top;\n",
       "    }\n",
       "\n",
       "    .dataframe thead th {\n",
       "        text-align: right;\n",
       "    }\n",
       "</style>\n",
       "<table border=\"1\" class=\"dataframe\">\n",
       "  <thead>\n",
       "    <tr style=\"text-align: right;\">\n",
       "      <th></th>\n",
       "      <th>experience</th>\n",
       "      <th>round</th>\n",
       "    </tr>\n",
       "  </thead>\n",
       "  <tbody>\n",
       "    <tr>\n",
       "      <th>0</th>\n",
       "      <td>Более 6 лет</td>\n",
       "      <td>NaN</td>\n",
       "    </tr>\n",
       "    <tr>\n",
       "      <th>1</th>\n",
       "      <td>Нет опыта</td>\n",
       "      <td>74643.0</td>\n",
       "    </tr>\n",
       "    <tr>\n",
       "      <th>2</th>\n",
       "      <td>От 1 года до 3 лет</td>\n",
       "      <td>145236.0</td>\n",
       "    </tr>\n",
       "    <tr>\n",
       "      <th>3</th>\n",
       "      <td>От 3 до 6 лет</td>\n",
       "      <td>243115.0</td>\n",
       "    </tr>\n",
       "  </tbody>\n",
       "</table>\n",
       "</div>"
      ],
      "text/plain": [
       "           experience     round\n",
       "0         Более 6 лет       NaN\n",
       "1           Нет опыта   74643.0\n",
       "2  От 1 года до 3 лет  145236.0\n",
       "3       От 3 до 6 лет  243115.0"
      ]
     },
     "execution_count": 204,
     "metadata": {},
     "output_type": "execute_result"
    }
   ],
   "source": [
    "# результат запроса\n",
    "pd.read_sql_query(query_6_6, connection)"
   ]
  },
  {
   "cell_type": "markdown",
   "id": "6a7892b4-4113-4746-adce-18aa2844f18e",
   "metadata": {
    "id": "6a7892b4-4113-4746-adce-18aa2844f18e"
   },
   "source": [
    "***"
   ]
  },
  {
   "cell_type": "markdown",
   "id": "UjLWUptVwY1o",
   "metadata": {
    "id": "UjLWUptVwY1o"
   },
   "source": [
    "# выводы по предметному анализу\n",
    "По предметному анализу можно сделать вывод о том, что из 49 тысяч вакансий 530 вакансий связаным с DS.\n",
    "При этом найдено 51 вакансии на позицию Junior DS. \n",
    "\n",
    "Так же стоит отметить, что среди 530 вакансий про DS 357 вакансий требует знание Python. На самом деле я считаю что цифра должна быть еще больше, ведь альтернатива для Python - R не особо популярен. Поэтому скорее всего или Python попросту не указали как обязательное требование, потому что предпологают, что Python должен знать любой DS и смысл писать Python как основные навыки нет.\n",
    "\n",
    "Что касается зарплат: \n",
    "- **При опыте работы 1 - 3 года зарплата ожидается в районе 150 тясяч рублей.**\n",
    "- **При опыте работы от 3 до лет зарплата будет насчитывать уже 240 тысяч рублей.**\n",
    "\n",
    "Можно сделать вывод, что Junior разработчик минимально может получить около 150 тысяч рублей, а со временев став Junior+/Middle зарплата поднимется на 60% \n",
    "\n"
   ]
  },
  {
   "cell_type": "markdown",
   "id": "c0ED6fh7wiBT",
   "metadata": {
    "id": "c0ED6fh7wiBT"
   },
   "source": [
    "# Общий вывод по проекту"
   ]
  },
  {
   "cell_type": "markdown",
   "id": "h9B3BL-wwj18",
   "metadata": {
    "id": "h9B3BL-wwj18"
   },
   "source": [
    "#### Общий вывод по проекту\n",
    "\n",
    "В ходе данного проекта мы провели анализ данных о вакансиях и работодателях. Мы определили ключевые тенденции на рынке труда, выявили работодателей с наибольшим количеством вакансий и проанализировали распределение вакансий по различным параметрам. \n",
    "\n",
    "#### Основные выводы:\n",
    "1. Работодатели с наибольшим количеством вакансий сосредоточены в крупных городах-милионниках и в определенных отраслях.\n",
    "2. Большинство вакансий связанных с DS нацелены на поиск junior - middle специалистов\n",
    "3. На основе данных по вакансиям можно сделать выводы о востребованности вакансий связанных с DS\n",
    "\n",
    "#### Дополнительные исследования могут включать:\n",
    "- Хотелось бы дополнительно проанализировать заработную плату не в зависимости от опыта работы, а от региона. Считаю это тоже очень важным показателем.\n",
    "- Сравнить между собой средние ЗП вакансий связанных с DS и вакансий не связанных с DS\n"
   ]
  },
  {
   "cell_type": "markdown",
   "id": "0333d8b0",
   "metadata": {},
   "source": [
    "## Исследование зарплаты по городам"
   ]
  },
  {
   "cell_type": "code",
   "execution_count": 208,
   "id": "dd489b58",
   "metadata": {},
   "outputs": [
    {
     "name": "stderr",
     "output_type": "stream",
     "text": [
      "/var/folders/vc/zgch74_n23sckf5dm03_fq380000gn/T/ipykernel_1045/4266057664.py:10: UserWarning:\n",
      "\n",
      "pandas only supports SQLAlchemy connectable (engine/connection) or database string URI or sqlite3 DBAPI2 connection. Other DBAPI2 objects are not tested. Please consider using SQLAlchemy.\n",
      "\n"
     ]
    },
    {
     "data": {
      "application/vnd.plotly.v1+json": {
       "config": {
        "plotlyServerURL": "https://plot.ly"
       },
       "data": [
        {
         "domain": {
          "x": [
           0,
           1
          ],
          "y": [
           0,
           1
          ]
         },
         "hovertemplate": "city_name=%{label}<br>salary=%{value}<extra></extra>",
         "labels": [
          "Германия",
          "Болгария",
          "Испания",
          "Черногория"
         ],
         "legendgroup": "",
         "name": "",
         "showlegend": true,
         "type": "pie",
         "values": [
          452751,
          324348,
          300000,
          288589
         ]
        }
       ],
       "layout": {
        "legend": {
         "tracegroupgap": 0
        },
        "template": {
         "data": {
          "bar": [
           {
            "error_x": {
             "color": "#2a3f5f"
            },
            "error_y": {
             "color": "#2a3f5f"
            },
            "marker": {
             "line": {
              "color": "#E5ECF6",
              "width": 0.5
             },
             "pattern": {
              "fillmode": "overlay",
              "size": 10,
              "solidity": 0.2
             }
            },
            "type": "bar"
           }
          ],
          "barpolar": [
           {
            "marker": {
             "line": {
              "color": "#E5ECF6",
              "width": 0.5
             },
             "pattern": {
              "fillmode": "overlay",
              "size": 10,
              "solidity": 0.2
             }
            },
            "type": "barpolar"
           }
          ],
          "carpet": [
           {
            "aaxis": {
             "endlinecolor": "#2a3f5f",
             "gridcolor": "white",
             "linecolor": "white",
             "minorgridcolor": "white",
             "startlinecolor": "#2a3f5f"
            },
            "baxis": {
             "endlinecolor": "#2a3f5f",
             "gridcolor": "white",
             "linecolor": "white",
             "minorgridcolor": "white",
             "startlinecolor": "#2a3f5f"
            },
            "type": "carpet"
           }
          ],
          "choropleth": [
           {
            "colorbar": {
             "outlinewidth": 0,
             "ticks": ""
            },
            "type": "choropleth"
           }
          ],
          "contour": [
           {
            "colorbar": {
             "outlinewidth": 0,
             "ticks": ""
            },
            "colorscale": [
             [
              0,
              "#0d0887"
             ],
             [
              0.1111111111111111,
              "#46039f"
             ],
             [
              0.2222222222222222,
              "#7201a8"
             ],
             [
              0.3333333333333333,
              "#9c179e"
             ],
             [
              0.4444444444444444,
              "#bd3786"
             ],
             [
              0.5555555555555556,
              "#d8576b"
             ],
             [
              0.6666666666666666,
              "#ed7953"
             ],
             [
              0.7777777777777778,
              "#fb9f3a"
             ],
             [
              0.8888888888888888,
              "#fdca26"
             ],
             [
              1,
              "#f0f921"
             ]
            ],
            "type": "contour"
           }
          ],
          "contourcarpet": [
           {
            "colorbar": {
             "outlinewidth": 0,
             "ticks": ""
            },
            "type": "contourcarpet"
           }
          ],
          "heatmap": [
           {
            "colorbar": {
             "outlinewidth": 0,
             "ticks": ""
            },
            "colorscale": [
             [
              0,
              "#0d0887"
             ],
             [
              0.1111111111111111,
              "#46039f"
             ],
             [
              0.2222222222222222,
              "#7201a8"
             ],
             [
              0.3333333333333333,
              "#9c179e"
             ],
             [
              0.4444444444444444,
              "#bd3786"
             ],
             [
              0.5555555555555556,
              "#d8576b"
             ],
             [
              0.6666666666666666,
              "#ed7953"
             ],
             [
              0.7777777777777778,
              "#fb9f3a"
             ],
             [
              0.8888888888888888,
              "#fdca26"
             ],
             [
              1,
              "#f0f921"
             ]
            ],
            "type": "heatmap"
           }
          ],
          "heatmapgl": [
           {
            "colorbar": {
             "outlinewidth": 0,
             "ticks": ""
            },
            "colorscale": [
             [
              0,
              "#0d0887"
             ],
             [
              0.1111111111111111,
              "#46039f"
             ],
             [
              0.2222222222222222,
              "#7201a8"
             ],
             [
              0.3333333333333333,
              "#9c179e"
             ],
             [
              0.4444444444444444,
              "#bd3786"
             ],
             [
              0.5555555555555556,
              "#d8576b"
             ],
             [
              0.6666666666666666,
              "#ed7953"
             ],
             [
              0.7777777777777778,
              "#fb9f3a"
             ],
             [
              0.8888888888888888,
              "#fdca26"
             ],
             [
              1,
              "#f0f921"
             ]
            ],
            "type": "heatmapgl"
           }
          ],
          "histogram": [
           {
            "marker": {
             "pattern": {
              "fillmode": "overlay",
              "size": 10,
              "solidity": 0.2
             }
            },
            "type": "histogram"
           }
          ],
          "histogram2d": [
           {
            "colorbar": {
             "outlinewidth": 0,
             "ticks": ""
            },
            "colorscale": [
             [
              0,
              "#0d0887"
             ],
             [
              0.1111111111111111,
              "#46039f"
             ],
             [
              0.2222222222222222,
              "#7201a8"
             ],
             [
              0.3333333333333333,
              "#9c179e"
             ],
             [
              0.4444444444444444,
              "#bd3786"
             ],
             [
              0.5555555555555556,
              "#d8576b"
             ],
             [
              0.6666666666666666,
              "#ed7953"
             ],
             [
              0.7777777777777778,
              "#fb9f3a"
             ],
             [
              0.8888888888888888,
              "#fdca26"
             ],
             [
              1,
              "#f0f921"
             ]
            ],
            "type": "histogram2d"
           }
          ],
          "histogram2dcontour": [
           {
            "colorbar": {
             "outlinewidth": 0,
             "ticks": ""
            },
            "colorscale": [
             [
              0,
              "#0d0887"
             ],
             [
              0.1111111111111111,
              "#46039f"
             ],
             [
              0.2222222222222222,
              "#7201a8"
             ],
             [
              0.3333333333333333,
              "#9c179e"
             ],
             [
              0.4444444444444444,
              "#bd3786"
             ],
             [
              0.5555555555555556,
              "#d8576b"
             ],
             [
              0.6666666666666666,
              "#ed7953"
             ],
             [
              0.7777777777777778,
              "#fb9f3a"
             ],
             [
              0.8888888888888888,
              "#fdca26"
             ],
             [
              1,
              "#f0f921"
             ]
            ],
            "type": "histogram2dcontour"
           }
          ],
          "mesh3d": [
           {
            "colorbar": {
             "outlinewidth": 0,
             "ticks": ""
            },
            "type": "mesh3d"
           }
          ],
          "parcoords": [
           {
            "line": {
             "colorbar": {
              "outlinewidth": 0,
              "ticks": ""
             }
            },
            "type": "parcoords"
           }
          ],
          "pie": [
           {
            "automargin": true,
            "type": "pie"
           }
          ],
          "scatter": [
           {
            "fillpattern": {
             "fillmode": "overlay",
             "size": 10,
             "solidity": 0.2
            },
            "type": "scatter"
           }
          ],
          "scatter3d": [
           {
            "line": {
             "colorbar": {
              "outlinewidth": 0,
              "ticks": ""
             }
            },
            "marker": {
             "colorbar": {
              "outlinewidth": 0,
              "ticks": ""
             }
            },
            "type": "scatter3d"
           }
          ],
          "scattercarpet": [
           {
            "marker": {
             "colorbar": {
              "outlinewidth": 0,
              "ticks": ""
             }
            },
            "type": "scattercarpet"
           }
          ],
          "scattergeo": [
           {
            "marker": {
             "colorbar": {
              "outlinewidth": 0,
              "ticks": ""
             }
            },
            "type": "scattergeo"
           }
          ],
          "scattergl": [
           {
            "marker": {
             "colorbar": {
              "outlinewidth": 0,
              "ticks": ""
             }
            },
            "type": "scattergl"
           }
          ],
          "scattermapbox": [
           {
            "marker": {
             "colorbar": {
              "outlinewidth": 0,
              "ticks": ""
             }
            },
            "type": "scattermapbox"
           }
          ],
          "scatterpolar": [
           {
            "marker": {
             "colorbar": {
              "outlinewidth": 0,
              "ticks": ""
             }
            },
            "type": "scatterpolar"
           }
          ],
          "scatterpolargl": [
           {
            "marker": {
             "colorbar": {
              "outlinewidth": 0,
              "ticks": ""
             }
            },
            "type": "scatterpolargl"
           }
          ],
          "scatterternary": [
           {
            "marker": {
             "colorbar": {
              "outlinewidth": 0,
              "ticks": ""
             }
            },
            "type": "scatterternary"
           }
          ],
          "surface": [
           {
            "colorbar": {
             "outlinewidth": 0,
             "ticks": ""
            },
            "colorscale": [
             [
              0,
              "#0d0887"
             ],
             [
              0.1111111111111111,
              "#46039f"
             ],
             [
              0.2222222222222222,
              "#7201a8"
             ],
             [
              0.3333333333333333,
              "#9c179e"
             ],
             [
              0.4444444444444444,
              "#bd3786"
             ],
             [
              0.5555555555555556,
              "#d8576b"
             ],
             [
              0.6666666666666666,
              "#ed7953"
             ],
             [
              0.7777777777777778,
              "#fb9f3a"
             ],
             [
              0.8888888888888888,
              "#fdca26"
             ],
             [
              1,
              "#f0f921"
             ]
            ],
            "type": "surface"
           }
          ],
          "table": [
           {
            "cells": {
             "fill": {
              "color": "#EBF0F8"
             },
             "line": {
              "color": "white"
             }
            },
            "header": {
             "fill": {
              "color": "#C8D4E3"
             },
             "line": {
              "color": "white"
             }
            },
            "type": "table"
           }
          ]
         },
         "layout": {
          "annotationdefaults": {
           "arrowcolor": "#2a3f5f",
           "arrowhead": 0,
           "arrowwidth": 1
          },
          "autotypenumbers": "strict",
          "coloraxis": {
           "colorbar": {
            "outlinewidth": 0,
            "ticks": ""
           }
          },
          "colorscale": {
           "diverging": [
            [
             0,
             "#8e0152"
            ],
            [
             0.1,
             "#c51b7d"
            ],
            [
             0.2,
             "#de77ae"
            ],
            [
             0.3,
             "#f1b6da"
            ],
            [
             0.4,
             "#fde0ef"
            ],
            [
             0.5,
             "#f7f7f7"
            ],
            [
             0.6,
             "#e6f5d0"
            ],
            [
             0.7,
             "#b8e186"
            ],
            [
             0.8,
             "#7fbc41"
            ],
            [
             0.9,
             "#4d9221"
            ],
            [
             1,
             "#276419"
            ]
           ],
           "sequential": [
            [
             0,
             "#0d0887"
            ],
            [
             0.1111111111111111,
             "#46039f"
            ],
            [
             0.2222222222222222,
             "#7201a8"
            ],
            [
             0.3333333333333333,
             "#9c179e"
            ],
            [
             0.4444444444444444,
             "#bd3786"
            ],
            [
             0.5555555555555556,
             "#d8576b"
            ],
            [
             0.6666666666666666,
             "#ed7953"
            ],
            [
             0.7777777777777778,
             "#fb9f3a"
            ],
            [
             0.8888888888888888,
             "#fdca26"
            ],
            [
             1,
             "#f0f921"
            ]
           ],
           "sequentialminus": [
            [
             0,
             "#0d0887"
            ],
            [
             0.1111111111111111,
             "#46039f"
            ],
            [
             0.2222222222222222,
             "#7201a8"
            ],
            [
             0.3333333333333333,
             "#9c179e"
            ],
            [
             0.4444444444444444,
             "#bd3786"
            ],
            [
             0.5555555555555556,
             "#d8576b"
            ],
            [
             0.6666666666666666,
             "#ed7953"
            ],
            [
             0.7777777777777778,
             "#fb9f3a"
            ],
            [
             0.8888888888888888,
             "#fdca26"
            ],
            [
             1,
             "#f0f921"
            ]
           ]
          },
          "colorway": [
           "#636efa",
           "#EF553B",
           "#00cc96",
           "#ab63fa",
           "#FFA15A",
           "#19d3f3",
           "#FF6692",
           "#B6E880",
           "#FF97FF",
           "#FECB52"
          ],
          "font": {
           "color": "#2a3f5f"
          },
          "geo": {
           "bgcolor": "white",
           "lakecolor": "white",
           "landcolor": "#E5ECF6",
           "showlakes": true,
           "showland": true,
           "subunitcolor": "white"
          },
          "hoverlabel": {
           "align": "left"
          },
          "hovermode": "closest",
          "mapbox": {
           "style": "light"
          },
          "paper_bgcolor": "white",
          "plot_bgcolor": "#E5ECF6",
          "polar": {
           "angularaxis": {
            "gridcolor": "white",
            "linecolor": "white",
            "ticks": ""
           },
           "bgcolor": "#E5ECF6",
           "radialaxis": {
            "gridcolor": "white",
            "linecolor": "white",
            "ticks": ""
           }
          },
          "scene": {
           "xaxis": {
            "backgroundcolor": "#E5ECF6",
            "gridcolor": "white",
            "gridwidth": 2,
            "linecolor": "white",
            "showbackground": true,
            "ticks": "",
            "zerolinecolor": "white"
           },
           "yaxis": {
            "backgroundcolor": "#E5ECF6",
            "gridcolor": "white",
            "gridwidth": 2,
            "linecolor": "white",
            "showbackground": true,
            "ticks": "",
            "zerolinecolor": "white"
           },
           "zaxis": {
            "backgroundcolor": "#E5ECF6",
            "gridcolor": "white",
            "gridwidth": 2,
            "linecolor": "white",
            "showbackground": true,
            "ticks": "",
            "zerolinecolor": "white"
           }
          },
          "shapedefaults": {
           "line": {
            "color": "#2a3f5f"
           }
          },
          "ternary": {
           "aaxis": {
            "gridcolor": "white",
            "linecolor": "white",
            "ticks": ""
           },
           "baxis": {
            "gridcolor": "white",
            "linecolor": "white",
            "ticks": ""
           },
           "bgcolor": "#E5ECF6",
           "caxis": {
            "gridcolor": "white",
            "linecolor": "white",
            "ticks": ""
           }
          },
          "title": {
           "x": 0.05
          },
          "xaxis": {
           "automargin": true,
           "gridcolor": "white",
           "linecolor": "white",
           "ticks": "",
           "title": {
            "standoff": 15
           },
           "zerolinecolor": "white",
           "zerolinewidth": 2
          },
          "yaxis": {
           "automargin": true,
           "gridcolor": "white",
           "linecolor": "white",
           "ticks": "",
           "title": {
            "standoff": 15
           },
           "zerolinecolor": "white",
           "zerolinewidth": 2
          }
         }
        },
        "title": {
         "text": "График средней зарплаты по городам"
        }
       }
      }
     },
     "metadata": {},
     "output_type": "display_data"
    }
   ],
   "source": [
    "\n",
    "bonus_query = '''\n",
    "select a.name as city_name, ROUND(AVG(coalesce((v.salary_from + v.salary_to) / 2, v.salary_from, v.salary_to)), 0) as salary\n",
    "from vacancies v \n",
    "left join areas a on a.id = v.area_id\n",
    "group by a.name\n",
    "having ROUND(AVG(coalesce((v.salary_from + v.salary_to) / 2, v.salary_from, v.salary_to)), 0) is not null\n",
    "order by 2 desc\n",
    "limit 4\n",
    "'''\n",
    "px.pie(pd.read_sql_query(bonus_query, connection), values='salary', names='city_name', title='График средней зарплаты по городам')"
   ]
  },
  {
   "cell_type": "markdown",
   "id": "3c5de0af",
   "metadata": {},
   "source": [
    "При анализе наибольших предлогаемых ЗП сгруппированных по городам в глаза сразу бросается тот факт, что лидеры предлогаемых заработных плат это сраны Европы. Если же чуть повысит топ стран до 7, то можно будет встретить уже и Россию :)"
   ]
  },
  {
   "cell_type": "markdown",
   "id": "e22ca0d2",
   "metadata": {},
   "source": [
    "## Исследование зарплаты в области DS и зарплаты не в области DS"
   ]
  },
  {
   "cell_type": "code",
   "execution_count": 206,
   "id": "1741b0c7",
   "metadata": {},
   "outputs": [
    {
     "name": "stderr",
     "output_type": "stream",
     "text": [
      "/var/folders/vc/zgch74_n23sckf5dm03_fq380000gn/T/ipykernel_1045/335458154.py:39: UserWarning:\n",
      "\n",
      "pandas only supports SQLAlchemy connectable (engine/connection) or database string URI or sqlite3 DBAPI2 connection. Other DBAPI2 objects are not tested. Please consider using SQLAlchemy.\n",
      "\n"
     ]
    },
    {
     "data": {
      "text/html": [
       "<div>\n",
       "<style scoped>\n",
       "    .dataframe tbody tr th:only-of-type {\n",
       "        vertical-align: middle;\n",
       "    }\n",
       "\n",
       "    .dataframe tbody tr th {\n",
       "        vertical-align: top;\n",
       "    }\n",
       "\n",
       "    .dataframe thead th {\n",
       "        text-align: right;\n",
       "    }\n",
       "</style>\n",
       "<table border=\"1\" class=\"dataframe\">\n",
       "  <thead>\n",
       "    <tr style=\"text-align: right;\">\n",
       "      <th></th>\n",
       "      <th>vac_name</th>\n",
       "      <th>avg</th>\n",
       "    </tr>\n",
       "  </thead>\n",
       "  <tbody>\n",
       "    <tr>\n",
       "      <th>0</th>\n",
       "      <td>Средние зарплаты у DS</td>\n",
       "      <td>153305.105263</td>\n",
       "    </tr>\n",
       "    <tr>\n",
       "      <th>1</th>\n",
       "      <td>Средняя зарплата не у ДС</td>\n",
       "      <td>89369.488880</td>\n",
       "    </tr>\n",
       "  </tbody>\n",
       "</table>\n",
       "</div>"
      ],
      "text/plain": [
       "                   vac_name            avg\n",
       "0     Средние зарплаты у DS  153305.105263\n",
       "1  Средняя зарплата не у ДС   89369.488880"
      ]
     },
     "execution_count": 206,
     "metadata": {},
     "output_type": "execute_result"
    }
   ],
   "source": [
    "bunus_query_1 = '''\n",
    "with y as (select v.name as vac_name, ROUND(AVG(coalesce((v.salary_from + v.salary_to) / 2, v.salary_from, v.salary_to)), 0) as salary\n",
    "from vacancies v \n",
    "WHERE\n",
    "(\n",
    "       (v.name not ILIKE '%data scientist%')\n",
    "    OR (v.name not ILIKE '%data science%')\n",
    "    OR (v.name not ILIKE '%исследователь данных%')\n",
    "    OR (v.name  not LIKE '%ML%')\n",
    "    OR (v.name not ILIKE '%machine learning%')\n",
    "    OR (v.name not ILIKE '%машинн%обучен%')\n",
    ")\n",
    "group by v.name\n",
    "having ROUND(AVG(coalesce((v.salary_from + v.salary_to) / 2, v.salary_from, v.salary_to)), 0) is not null\n",
    "order by 2 desc),\n",
    "\n",
    "x as (select a.name as city_name, ROUND(AVG(coalesce((v.salary_from + v.salary_to) / 2, v.salary_from, v.salary_to)), 0) as salary\n",
    "from vacancies v \n",
    "left join areas a on a.id = v.area_id\n",
    "WHERE\n",
    "(\n",
    "       (v.name ILIKE '%data scientist%')\n",
    "    OR (v.name ILIKE '%data science%')\n",
    "    OR (v.name ILIKE '%исследователь данных%')\n",
    "    OR (v.name  LIKE '%ML%' AND  (v.name NOT iLIKE '%html%'))\n",
    "    OR (v.name ILIKE '%machine learning%')\n",
    "    OR (v.name ILIKE '%машинн%обучен%')\n",
    ")\n",
    "group by a.name\n",
    "having ROUND(AVG(coalesce((v.salary_from + v.salary_to) / 2, v.salary_from, v.salary_to)), 0) is not null\n",
    "order by 2 desc)\n",
    "\n",
    "select 'Средние зарплаты у DS' as vac_name, avg(salary) from x\n",
    "union \n",
    "select 'Средняя зарплата не у ДС', avg(salary) from y\n",
    "\n",
    "\n",
    "'''\n",
    "pd.read_sql_query(bunus_query_1, connection)"
   ]
  },
  {
   "cell_type": "markdown",
   "id": "0352bc68",
   "metadata": {},
   "source": [
    "# Вывод по данному запросу: \n",
    "\n",
    "При анализе зарплаты в разрезе сферы деятельности можно сделать вывод, что в целом среднестатистические вакансии IT проигрывают в больше чем в полтора раза средней зарплате вакансий связанной с DS. \n",
    "Да, если промежуточно взглянуть на анализ вакансий можно найти ряд вакансий которые сами по себе конкурирует со средней зарплатой DS, но так как большинство вакансий не про DS имеют меньшую зарплату, то и получая среднее значение расчетная зарплата вышла такой:\n",
    "\n",
    "Вывод: \n",
    "- Вакансии связанные в DS в **большинстве** случаев прибыльнее других вакансий примерно в 1.75 раз!"
   ]
  }
 ],
 "metadata": {
  "colab": {
   "collapsed_sections": [
    "8d62a9f3-f64e-4fe7-bdac-c4dffa16155e"
   ],
   "provenance": []
  },
  "kernelspec": {
   "display_name": "base",
   "language": "python",
   "name": "python3"
  },
  "language_info": {
   "codemirror_mode": {
    "name": "ipython",
    "version": 3
   },
   "file_extension": ".py",
   "mimetype": "text/x-python",
   "name": "python",
   "nbconvert_exporter": "python",
   "pygments_lexer": "ipython3",
   "version": "3.11.11"
  }
 },
 "nbformat": 4,
 "nbformat_minor": 5
}
